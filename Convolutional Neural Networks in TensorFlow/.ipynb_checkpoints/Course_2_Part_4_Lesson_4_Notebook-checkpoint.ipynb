{
  "nbformat": 4,
  "nbformat_minor": 0,
  "metadata": {
    "accelerator": "GPU",
    "colab": {
      "name": "Course 2 - Part 4 - Lesson 4 - Notebook.ipynb",
      "provenance": [],
      "collapsed_sections": [],
      "toc_visible": true
    },
    "kernelspec": {
      "display_name": "Python 3",
      "name": "python3"
    }
  },
  "cells": [
    {
      "cell_type": "markdown",
      "metadata": {
        "colab_type": "text",
        "id": "rX8mhOLljYeM"
      },
      "source": [
        "##### Copyright 2019 The TensorFlow Authors."
      ]
    },
    {
      "cell_type": "code",
      "metadata": {
        "cellView": "form",
        "colab_type": "code",
        "id": "BZSlp3DAjdYf",
        "colab": {}
      },
      "source": [
        "#@title Licensed under the Apache License, Version 2.0 (the \"License\");\n",
        "# you may not use this file except in compliance with the License.\n",
        "# You may obtain a copy of the License at\n",
        "#\n",
        "# https://www.apache.org/licenses/LICENSE-2.0\n",
        "#\n",
        "# Unless required by applicable law or agreed to in writing, software\n",
        "# distributed under the License is distributed on an \"AS IS\" BASIS,\n",
        "# WITHOUT WARRANTIES OR CONDITIONS OF ANY KIND, either express or implied.\n",
        "# See the License for the specific language governing permissions and\n",
        "# limitations under the License."
      ],
      "execution_count": 0,
      "outputs": []
    },
    {
      "cell_type": "code",
      "metadata": {
        "colab_type": "code",
        "id": "RXZT2UsyIVe_",
        "colab": {
          "base_uri": "https://localhost:8080/",
          "height": 391
        },
        "outputId": "02fce800-9c9e-45ef-b336-212c615c57dc"
      },
      "source": [
        "!wget --no-check-certificate \\\n",
        "    https://storage.googleapis.com/laurencemoroney-blog.appspot.com/horse-or-human.zip \\\n",
        "    -O /tmp/horse-or-human.zip\n",
        "\n",
        "!wget --no-check-certificate \\\n",
        "    https://storage.googleapis.com/laurencemoroney-blog.appspot.com/validation-horse-or-human.zip \\\n",
        "    -O /tmp/validation-horse-or-human.zip\n",
        "  \n",
        "import os\n",
        "import zipfile\n",
        "\n",
        "local_zip = '/tmp/horse-or-human.zip'\n",
        "zip_ref = zipfile.ZipFile(local_zip, 'r')\n",
        "zip_ref.extractall('/tmp/horse-or-human')\n",
        "local_zip = '/tmp/validation-horse-or-human.zip'\n",
        "zip_ref = zipfile.ZipFile(local_zip, 'r')\n",
        "zip_ref.extractall('/tmp/validation-horse-or-human')\n",
        "zip_ref.close()\n",
        "# Directory with our training horse pictures\n",
        "train_horse_dir = os.path.join('/tmp/horse-or-human/horses')\n",
        "\n",
        "# Directory with our training human pictures\n",
        "train_human_dir = os.path.join('/tmp/horse-or-human/humans')\n",
        "\n",
        "# Directory with our training horse pictures\n",
        "validation_horse_dir = os.path.join('/tmp/validation-horse-or-human/horses')\n",
        "\n",
        "# Directory with our training human pictures\n",
        "validation_human_dir = os.path.join('/tmp/validation-horse-or-human/humans')"
      ],
      "execution_count": 2,
      "outputs": [
        {
          "output_type": "stream",
          "text": [
            "--2020-05-09 06:53:36--  https://storage.googleapis.com/laurencemoroney-blog.appspot.com/horse-or-human.zip\n",
            "Resolving storage.googleapis.com (storage.googleapis.com)... 108.177.119.128, 2a00:1450:4013:c00::80\n",
            "Connecting to storage.googleapis.com (storage.googleapis.com)|108.177.119.128|:443... connected.\n",
            "HTTP request sent, awaiting response... 200 OK\n",
            "Length: 149574867 (143M) [application/zip]\n",
            "Saving to: ‘/tmp/horse-or-human.zip’\n",
            "\n",
            "/tmp/horse-or-human 100%[===================>] 142.65M   131MB/s    in 1.1s    \n",
            "\n",
            "2020-05-09 06:53:37 (131 MB/s) - ‘/tmp/horse-or-human.zip’ saved [149574867/149574867]\n",
            "\n",
            "--2020-05-09 06:53:39--  https://storage.googleapis.com/laurencemoroney-blog.appspot.com/validation-horse-or-human.zip\n",
            "Resolving storage.googleapis.com (storage.googleapis.com)... 108.177.119.128, 2a00:1450:4013:c00::80\n",
            "Connecting to storage.googleapis.com (storage.googleapis.com)|108.177.119.128|:443... connected.\n",
            "HTTP request sent, awaiting response... 200 OK\n",
            "Length: 11480187 (11M) [application/zip]\n",
            "Saving to: ‘/tmp/validation-horse-or-human.zip’\n",
            "\n",
            "/tmp/validation-hor 100%[===================>]  10.95M  42.3MB/s    in 0.3s    \n",
            "\n",
            "2020-05-09 06:53:40 (42.3 MB/s) - ‘/tmp/validation-horse-or-human.zip’ saved [11480187/11480187]\n",
            "\n"
          ],
          "name": "stdout"
        }
      ]
    },
    {
      "cell_type": "markdown",
      "metadata": {
        "colab_type": "text",
        "id": "5oqBkNBJmtUv"
      },
      "source": [
        "## Building a Small Model from Scratch\n",
        "\n",
        "But before we continue, let's start defining the model:\n",
        "\n",
        "Step 1 will be to import tensorflow."
      ]
    },
    {
      "cell_type": "code",
      "metadata": {
        "colab_type": "code",
        "id": "qvfZg3LQbD-5",
        "colab": {}
      },
      "source": [
        "import tensorflow as tf"
      ],
      "execution_count": 0,
      "outputs": []
    },
    {
      "cell_type": "markdown",
      "metadata": {
        "colab_type": "text",
        "id": "BnhYCP4tdqjC"
      },
      "source": [
        "We then add convolutional layers as in the previous example, and flatten the final result to feed into the densely connected layers."
      ]
    },
    {
      "cell_type": "markdown",
      "metadata": {
        "colab_type": "text",
        "id": "gokG5HKpdtzm"
      },
      "source": [
        "Finally we add the densely connected layers. \n",
        "\n",
        "Note that because we are facing a two-class classification problem, i.e. a *binary classification problem*, we will end our network with a [*sigmoid* activation](https://wikipedia.org/wiki/Sigmoid_function), so that the output of our network will be a single scalar between 0 and 1, encoding the probability that the current image is class 1 (as opposed to class 0)."
      ]
    },
    {
      "cell_type": "code",
      "metadata": {
        "colab_type": "code",
        "id": "PixZ2s5QbYQ3",
        "colab": {}
      },
      "source": [
        "model = tf.keras.models.Sequential([\n",
        "    # Note the input shape is the desired size of the image 300x300 with 3 bytes color\n",
        "    # This is the first convolution\n",
        "    tf.keras.layers.Conv2D(16, (3,3), activation='relu', input_shape=(300, 300, 3)),\n",
        "    tf.keras.layers.MaxPooling2D(2, 2),\n",
        "    # The second convolution\n",
        "    tf.keras.layers.Conv2D(32, (3,3), activation='relu'),\n",
        "    tf.keras.layers.MaxPooling2D(2,2),\n",
        "    # The third convolution\n",
        "    tf.keras.layers.Conv2D(64, (3,3), activation='relu'),\n",
        "    tf.keras.layers.MaxPooling2D(2,2),\n",
        "    # The fourth convolution\n",
        "    tf.keras.layers.Conv2D(64, (3,3), activation='relu'),\n",
        "    tf.keras.layers.MaxPooling2D(2,2),\n",
        "    # The fifth convolution\n",
        "    tf.keras.layers.Conv2D(64, (3,3), activation='relu'),\n",
        "    tf.keras.layers.MaxPooling2D(2,2),\n",
        "    # Flatten the results to feed into a DNN\n",
        "    tf.keras.layers.Flatten(),\n",
        "    # 512 neuron hidden layer\n",
        "    tf.keras.layers.Dense(512, activation='relu'),\n",
        "    # Only 1 output neuron. It will contain a value from 0-1 where 0 for 1 class ('horses') and 1 for the other ('humans')\n",
        "    tf.keras.layers.Dense(1, activation='sigmoid')\n",
        "])"
      ],
      "execution_count": 0,
      "outputs": []
    },
    {
      "cell_type": "code",
      "metadata": {
        "colab_type": "code",
        "id": "8DHWhFP_uhq3",
        "colab": {}
      },
      "source": [
        "from tensorflow.keras.optimizers import RMSprop\n",
        "\n",
        "model.compile(loss='binary_crossentropy',\n",
        "              optimizer=RMSprop(lr=1e-4),\n",
        "              metrics=['accuracy'])"
      ],
      "execution_count": 0,
      "outputs": []
    },
    {
      "cell_type": "code",
      "metadata": {
        "colab_type": "code",
        "id": "ClebU9NJg99G",
        "colab": {
          "base_uri": "https://localhost:8080/",
          "height": 51
        },
        "outputId": "cc1c6980-d690-4afe-e450-2df07544a056"
      },
      "source": [
        "from tensorflow.keras.preprocessing.image import ImageDataGenerator\n",
        "\n",
        "# All images will be rescaled by 1./255\n",
        "train_datagen = ImageDataGenerator(\n",
        "      rescale=1./255,\n",
        "      rotation_range=40,\n",
        "      width_shift_range=0.2,\n",
        "      height_shift_range=0.2,\n",
        "      shear_range=0.2,\n",
        "      zoom_range=0.2,\n",
        "      horizontal_flip=True,\n",
        "      fill_mode='nearest')\n",
        "\n",
        "validation_datagen = ImageDataGenerator(rescale=1/255)\n",
        "\n",
        "# Flow training images in batches of 128 using train_datagen generator\n",
        "train_generator = train_datagen.flow_from_directory(\n",
        "        '/tmp/horse-or-human/',  # This is the source directory for training images\n",
        "        target_size=(300, 300),  # All images will be resized to 150x150\n",
        "        batch_size=128,\n",
        "        # Since we use binary_crossentropy loss, we need binary labels\n",
        "        class_mode='binary')\n",
        "\n",
        "# Flow training images in batches of 128 using train_datagen generator\n",
        "validation_generator = validation_datagen.flow_from_directory(\n",
        "        '/tmp/validation-horse-or-human/',  # This is the source directory for training images\n",
        "        target_size=(300, 300),  # All images will be resized to 150x150\n",
        "        batch_size=32,\n",
        "        # Since we use binary_crossentropy loss, we need binary labels\n",
        "        class_mode='binary')"
      ],
      "execution_count": 6,
      "outputs": [
        {
          "output_type": "stream",
          "text": [
            "Found 1027 images belonging to 2 classes.\n",
            "Found 256 images belonging to 2 classes.\n"
          ],
          "name": "stdout"
        }
      ]
    },
    {
      "cell_type": "code",
      "metadata": {
        "colab_type": "code",
        "id": "Fb1_lgobv81m",
        "colab": {
          "base_uri": "https://localhost:8080/",
          "height": 1000
        },
        "outputId": "9f1e9d11-664d-41c9-b154-e7a2e17a016c"
      },
      "source": [
        "history = model.fit(\n",
        "      train_generator,\n",
        "      steps_per_epoch=8,  \n",
        "      epochs=100,\n",
        "      verbose=1,\n",
        "      validation_data = validation_generator,\n",
        "      validation_steps=8)"
      ],
      "execution_count": 7,
      "outputs": [
        {
          "output_type": "stream",
          "text": [
            "Epoch 1/100\n",
            "8/8 [==============================] - 18s 2s/step - loss: 0.6915 - accuracy: 0.5312 - val_loss: 0.6916 - val_accuracy: 0.5000\n",
            "Epoch 2/100\n",
            "8/8 [==============================] - 21s 3s/step - loss: 0.6859 - accuracy: 0.5751 - val_loss: 0.6518 - val_accuracy: 0.5508\n",
            "Epoch 3/100\n",
            "8/8 [==============================] - 18s 2s/step - loss: 0.6528 - accuracy: 0.6641 - val_loss: 0.6091 - val_accuracy: 0.6992\n",
            "Epoch 4/100\n",
            "8/8 [==============================] - 18s 2s/step - loss: 0.6520 - accuracy: 0.6352 - val_loss: 0.7093 - val_accuracy: 0.4922\n",
            "Epoch 5/100\n",
            "8/8 [==============================] - 18s 2s/step - loss: 0.6516 - accuracy: 0.6396 - val_loss: 0.5440 - val_accuracy: 0.8086\n",
            "Epoch 6/100\n",
            "8/8 [==============================] - 18s 2s/step - loss: 0.6070 - accuracy: 0.7253 - val_loss: 0.5432 - val_accuracy: 0.7617\n",
            "Epoch 7/100\n",
            "8/8 [==============================] - 18s 2s/step - loss: 0.5823 - accuracy: 0.7486 - val_loss: 0.9560 - val_accuracy: 0.4844\n",
            "Epoch 8/100\n",
            "8/8 [==============================] - 18s 2s/step - loss: 0.6264 - accuracy: 0.6418 - val_loss: 0.7421 - val_accuracy: 0.5352\n",
            "Epoch 9/100\n",
            "8/8 [==============================] - 18s 2s/step - loss: 0.5610 - accuracy: 0.7464 - val_loss: 1.0151 - val_accuracy: 0.5000\n",
            "Epoch 10/100\n",
            "8/8 [==============================] - 20s 2s/step - loss: 0.6026 - accuracy: 0.7305 - val_loss: 0.5247 - val_accuracy: 0.7070\n",
            "Epoch 11/100\n",
            "8/8 [==============================] - 20s 3s/step - loss: 0.6079 - accuracy: 0.6897 - val_loss: 0.6024 - val_accuracy: 0.6641\n",
            "Epoch 12/100\n",
            "8/8 [==============================] - 18s 2s/step - loss: 0.5838 - accuracy: 0.7230 - val_loss: 0.6467 - val_accuracy: 0.6172\n",
            "Epoch 13/100\n",
            "8/8 [==============================] - 18s 2s/step - loss: 0.5466 - accuracy: 0.7375 - val_loss: 0.5533 - val_accuracy: 0.7031\n",
            "Epoch 14/100\n",
            "8/8 [==============================] - 18s 2s/step - loss: 0.5485 - accuracy: 0.7219 - val_loss: 0.5003 - val_accuracy: 0.7422\n",
            "Epoch 15/100\n",
            "8/8 [==============================] - 18s 2s/step - loss: 0.5324 - accuracy: 0.7464 - val_loss: 0.6029 - val_accuracy: 0.6875\n",
            "Epoch 16/100\n",
            "8/8 [==============================] - 18s 2s/step - loss: 0.5029 - accuracy: 0.7642 - val_loss: 1.0237 - val_accuracy: 0.5430\n",
            "Epoch 17/100\n",
            "8/8 [==============================] - 18s 2s/step - loss: 0.5074 - accuracy: 0.7575 - val_loss: 1.0015 - val_accuracy: 0.5547\n",
            "Epoch 18/100\n",
            "8/8 [==============================] - 18s 2s/step - loss: 0.4807 - accuracy: 0.7720 - val_loss: 0.2777 - val_accuracy: 0.9023\n",
            "Epoch 19/100\n",
            "8/8 [==============================] - 20s 2s/step - loss: 0.5210 - accuracy: 0.7559 - val_loss: 0.8721 - val_accuracy: 0.6055\n",
            "Epoch 20/100\n",
            "8/8 [==============================] - 21s 3s/step - loss: 0.4975 - accuracy: 0.7697 - val_loss: 0.7774 - val_accuracy: 0.6602\n",
            "Epoch 21/100\n",
            "8/8 [==============================] - 18s 2s/step - loss: 0.4586 - accuracy: 0.7898 - val_loss: 1.5853 - val_accuracy: 0.5078\n",
            "Epoch 22/100\n",
            "8/8 [==============================] - 18s 2s/step - loss: 0.4437 - accuracy: 0.8009 - val_loss: 1.2645 - val_accuracy: 0.5977\n",
            "Epoch 23/100\n",
            "8/8 [==============================] - 18s 2s/step - loss: 0.4196 - accuracy: 0.8142 - val_loss: 1.1601 - val_accuracy: 0.5898\n",
            "Epoch 24/100\n",
            "8/8 [==============================] - 18s 2s/step - loss: 0.4901 - accuracy: 0.8053 - val_loss: 0.9988 - val_accuracy: 0.6133\n",
            "Epoch 25/100\n",
            "8/8 [==============================] - 18s 2s/step - loss: 0.4316 - accuracy: 0.8053 - val_loss: 0.9307 - val_accuracy: 0.6523\n",
            "Epoch 26/100\n",
            "8/8 [==============================] - 18s 2s/step - loss: 0.4005 - accuracy: 0.8198 - val_loss: 1.0829 - val_accuracy: 0.6406\n",
            "Epoch 27/100\n",
            "8/8 [==============================] - 18s 2s/step - loss: 0.4451 - accuracy: 0.7842 - val_loss: 1.3128 - val_accuracy: 0.6406\n",
            "Epoch 28/100\n",
            "8/8 [==============================] - 20s 2s/step - loss: 0.4264 - accuracy: 0.7969 - val_loss: 1.6132 - val_accuracy: 0.5352\n",
            "Epoch 29/100\n",
            "8/8 [==============================] - 21s 3s/step - loss: 0.4479 - accuracy: 0.8087 - val_loss: 1.1414 - val_accuracy: 0.6172\n",
            "Epoch 30/100\n",
            "8/8 [==============================] - 18s 2s/step - loss: 0.3912 - accuracy: 0.8343 - val_loss: 1.0072 - val_accuracy: 0.6797\n",
            "Epoch 31/100\n",
            "8/8 [==============================] - 18s 2s/step - loss: 0.3801 - accuracy: 0.8287 - val_loss: 1.1268 - val_accuracy: 0.6367\n",
            "Epoch 32/100\n",
            "8/8 [==============================] - 18s 2s/step - loss: 0.4181 - accuracy: 0.8020 - val_loss: 1.1191 - val_accuracy: 0.6484\n",
            "Epoch 33/100\n",
            "8/8 [==============================] - 18s 2s/step - loss: 0.3616 - accuracy: 0.8376 - val_loss: 1.4929 - val_accuracy: 0.5938\n",
            "Epoch 34/100\n",
            "8/8 [==============================] - 18s 2s/step - loss: 0.4727 - accuracy: 0.7909 - val_loss: 1.3305 - val_accuracy: 0.6289\n",
            "Epoch 35/100\n",
            "8/8 [==============================] - 18s 2s/step - loss: 0.3434 - accuracy: 0.8498 - val_loss: 1.8196 - val_accuracy: 0.5820\n",
            "Epoch 36/100\n",
            "8/8 [==============================] - 18s 2s/step - loss: 0.3410 - accuracy: 0.8521 - val_loss: 3.6834 - val_accuracy: 0.4844\n",
            "Epoch 37/100\n",
            "8/8 [==============================] - 20s 3s/step - loss: 0.3885 - accuracy: 0.8174 - val_loss: 1.7321 - val_accuracy: 0.5859\n",
            "Epoch 38/100\n",
            "8/8 [==============================] - 21s 3s/step - loss: 0.3716 - accuracy: 0.8443 - val_loss: 1.4600 - val_accuracy: 0.6172\n",
            "Epoch 39/100\n",
            "8/8 [==============================] - 18s 2s/step - loss: 0.3304 - accuracy: 0.8532 - val_loss: 1.2172 - val_accuracy: 0.6797\n",
            "Epoch 40/100\n",
            "8/8 [==============================] - 18s 2s/step - loss: 0.3365 - accuracy: 0.8498 - val_loss: 1.0374 - val_accuracy: 0.6953\n",
            "Epoch 41/100\n",
            "8/8 [==============================] - 18s 2s/step - loss: 0.3396 - accuracy: 0.8420 - val_loss: 1.9678 - val_accuracy: 0.5625\n",
            "Epoch 42/100\n",
            "8/8 [==============================] - 18s 2s/step - loss: 0.3571 - accuracy: 0.8387 - val_loss: 1.6353 - val_accuracy: 0.5977\n",
            "Epoch 43/100\n",
            "8/8 [==============================] - 18s 2s/step - loss: 0.3627 - accuracy: 0.8654 - val_loss: 1.7770 - val_accuracy: 0.6016\n",
            "Epoch 44/100\n",
            "8/8 [==============================] - 18s 2s/step - loss: 0.3116 - accuracy: 0.8710 - val_loss: 1.5215 - val_accuracy: 0.6289\n",
            "Epoch 45/100\n",
            "8/8 [==============================] - 18s 2s/step - loss: 0.2900 - accuracy: 0.8710 - val_loss: 0.2094 - val_accuracy: 0.9219\n",
            "Epoch 46/100\n",
            "8/8 [==============================] - 20s 3s/step - loss: 0.3725 - accuracy: 0.8418 - val_loss: 1.4634 - val_accuracy: 0.6406\n",
            "Epoch 47/100\n",
            "8/8 [==============================] - 21s 3s/step - loss: 0.2983 - accuracy: 0.8654 - val_loss: 1.5472 - val_accuracy: 0.6445\n",
            "Epoch 48/100\n",
            "8/8 [==============================] - 18s 2s/step - loss: 0.2672 - accuracy: 0.8899 - val_loss: 2.2397 - val_accuracy: 0.5508\n",
            "Epoch 49/100\n",
            "8/8 [==============================] - 18s 2s/step - loss: 0.3037 - accuracy: 0.8632 - val_loss: 1.5667 - val_accuracy: 0.6328\n",
            "Epoch 50/100\n",
            "8/8 [==============================] - 18s 2s/step - loss: 0.3476 - accuracy: 0.8654 - val_loss: 1.3553 - val_accuracy: 0.6602\n",
            "Epoch 51/100\n",
            "8/8 [==============================] - 18s 2s/step - loss: 0.2530 - accuracy: 0.9043 - val_loss: 1.5990 - val_accuracy: 0.6445\n",
            "Epoch 52/100\n",
            "8/8 [==============================] - 18s 2s/step - loss: 0.2965 - accuracy: 0.8710 - val_loss: 1.3347 - val_accuracy: 0.6484\n",
            "Epoch 53/100\n",
            "8/8 [==============================] - 18s 2s/step - loss: 0.2816 - accuracy: 0.8888 - val_loss: 2.6778 - val_accuracy: 0.5195\n",
            "Epoch 54/100\n",
            "8/8 [==============================] - 18s 2s/step - loss: 0.2570 - accuracy: 0.8921 - val_loss: 1.7531 - val_accuracy: 0.6523\n",
            "Epoch 55/100\n",
            "8/8 [==============================] - 20s 2s/step - loss: 0.2650 - accuracy: 0.9014 - val_loss: 1.2778 - val_accuracy: 0.6875\n",
            "Epoch 56/100\n",
            "8/8 [==============================] - 21s 3s/step - loss: 0.2757 - accuracy: 0.8865 - val_loss: 1.5223 - val_accuracy: 0.6719\n",
            "Epoch 57/100\n",
            "8/8 [==============================] - 18s 2s/step - loss: 0.2812 - accuracy: 0.8721 - val_loss: 1.1630 - val_accuracy: 0.6914\n",
            "Epoch 58/100\n",
            "8/8 [==============================] - 18s 2s/step - loss: 0.2450 - accuracy: 0.8943 - val_loss: 1.7536 - val_accuracy: 0.6367\n",
            "Epoch 59/100\n",
            "8/8 [==============================] - 18s 2s/step - loss: 0.2835 - accuracy: 0.8821 - val_loss: 1.7815 - val_accuracy: 0.6289\n",
            "Epoch 60/100\n",
            "8/8 [==============================] - 18s 2s/step - loss: 0.2129 - accuracy: 0.9177 - val_loss: 1.3572 - val_accuracy: 0.7070\n",
            "Epoch 61/100\n",
            "8/8 [==============================] - 18s 2s/step - loss: 0.2326 - accuracy: 0.9021 - val_loss: 1.8221 - val_accuracy: 0.6172\n",
            "Epoch 62/100\n",
            "8/8 [==============================] - 18s 2s/step - loss: 0.2839 - accuracy: 0.8888 - val_loss: 0.7464 - val_accuracy: 0.7969\n",
            "Epoch 63/100\n",
            "8/8 [==============================] - 18s 2s/step - loss: 0.2716 - accuracy: 0.8877 - val_loss: 2.8289 - val_accuracy: 0.5078\n",
            "Epoch 64/100\n",
            "8/8 [==============================] - 20s 3s/step - loss: 0.2717 - accuracy: 0.8926 - val_loss: 1.5723 - val_accuracy: 0.6680\n",
            "Epoch 65/100\n",
            "8/8 [==============================] - 21s 3s/step - loss: 0.2396 - accuracy: 0.8999 - val_loss: 2.1939 - val_accuracy: 0.6055\n",
            "Epoch 66/100\n",
            "8/8 [==============================] - 18s 2s/step - loss: 0.2150 - accuracy: 0.9232 - val_loss: 2.0584 - val_accuracy: 0.6367\n",
            "Epoch 67/100\n",
            "8/8 [==============================] - 18s 2s/step - loss: 0.2064 - accuracy: 0.9232 - val_loss: 2.2614 - val_accuracy: 0.5977\n",
            "Epoch 68/100\n",
            "8/8 [==============================] - 18s 2s/step - loss: 0.2096 - accuracy: 0.9188 - val_loss: 2.7717 - val_accuracy: 0.5742\n",
            "Epoch 69/100\n",
            "8/8 [==============================] - 18s 2s/step - loss: 0.2393 - accuracy: 0.8988 - val_loss: 1.5344 - val_accuracy: 0.6914\n",
            "Epoch 70/100\n",
            "8/8 [==============================] - 18s 2s/step - loss: 0.2321 - accuracy: 0.9055 - val_loss: 0.9285 - val_accuracy: 0.6875\n",
            "Epoch 71/100\n",
            "8/8 [==============================] - 18s 2s/step - loss: 0.2099 - accuracy: 0.9132 - val_loss: 2.4349 - val_accuracy: 0.5938\n",
            "Epoch 72/100\n",
            "8/8 [==============================] - 18s 2s/step - loss: 0.2283 - accuracy: 0.9143 - val_loss: 0.6433 - val_accuracy: 0.8242\n",
            "Epoch 73/100\n",
            "8/8 [==============================] - 20s 3s/step - loss: 0.2436 - accuracy: 0.8994 - val_loss: 1.7490 - val_accuracy: 0.6562\n",
            "Epoch 74/100\n",
            "8/8 [==============================] - 21s 3s/step - loss: 0.2067 - accuracy: 0.9244 - val_loss: 3.5011 - val_accuracy: 0.5508\n",
            "Epoch 75/100\n",
            "8/8 [==============================] - 18s 2s/step - loss: 0.2107 - accuracy: 0.9021 - val_loss: 3.1652 - val_accuracy: 0.5664\n",
            "Epoch 76/100\n",
            "8/8 [==============================] - 18s 2s/step - loss: 0.1915 - accuracy: 0.9310 - val_loss: 1.5032 - val_accuracy: 0.6836\n",
            "Epoch 77/100\n",
            "8/8 [==============================] - 18s 2s/step - loss: 0.1645 - accuracy: 0.9399 - val_loss: 3.1047 - val_accuracy: 0.5820\n",
            "Epoch 78/100\n",
            "8/8 [==============================] - 18s 2s/step - loss: 0.2636 - accuracy: 0.8932 - val_loss: 2.1382 - val_accuracy: 0.6289\n",
            "Epoch 79/100\n",
            "8/8 [==============================] - 18s 2s/step - loss: 0.1746 - accuracy: 0.9266 - val_loss: 1.5407 - val_accuracy: 0.6875\n",
            "Epoch 80/100\n",
            "8/8 [==============================] - 18s 2s/step - loss: 0.1812 - accuracy: 0.9366 - val_loss: 2.0857 - val_accuracy: 0.6484\n",
            "Epoch 81/100\n",
            "8/8 [==============================] - 18s 2s/step - loss: 0.1992 - accuracy: 0.9255 - val_loss: 0.4577 - val_accuracy: 0.8789\n",
            "Epoch 82/100\n",
            "8/8 [==============================] - 20s 2s/step - loss: 0.2684 - accuracy: 0.9004 - val_loss: 2.2622 - val_accuracy: 0.6250\n",
            "Epoch 83/100\n",
            "8/8 [==============================] - 21s 3s/step - loss: 0.1581 - accuracy: 0.9299 - val_loss: 2.1609 - val_accuracy: 0.6758\n",
            "Epoch 84/100\n",
            "8/8 [==============================] - 18s 2s/step - loss: 0.1774 - accuracy: 0.9344 - val_loss: 3.3305 - val_accuracy: 0.5781\n",
            "Epoch 85/100\n",
            "8/8 [==============================] - 18s 2s/step - loss: 0.1943 - accuracy: 0.9166 - val_loss: 2.3248 - val_accuracy: 0.6562\n",
            "Epoch 86/100\n",
            "8/8 [==============================] - 18s 2s/step - loss: 0.1580 - accuracy: 0.9399 - val_loss: 2.4130 - val_accuracy: 0.6328\n",
            "Epoch 87/100\n",
            "8/8 [==============================] - 18s 2s/step - loss: 0.1823 - accuracy: 0.9288 - val_loss: 4.4670 - val_accuracy: 0.5234\n",
            "Epoch 88/100\n",
            "8/8 [==============================] - 18s 2s/step - loss: 0.1853 - accuracy: 0.9244 - val_loss: 2.9063 - val_accuracy: 0.6172\n",
            "Epoch 89/100\n",
            "8/8 [==============================] - 18s 2s/step - loss: 0.1490 - accuracy: 0.9422 - val_loss: 2.3550 - val_accuracy: 0.6602\n",
            "Epoch 90/100\n",
            "8/8 [==============================] - 18s 2s/step - loss: 0.2096 - accuracy: 0.9110 - val_loss: 1.8113 - val_accuracy: 0.6875\n",
            "Epoch 91/100\n",
            "8/8 [==============================] - 20s 3s/step - loss: 0.1376 - accuracy: 0.9463 - val_loss: 2.7258 - val_accuracy: 0.6328\n",
            "Epoch 92/100\n",
            "8/8 [==============================] - 21s 3s/step - loss: 0.1479 - accuracy: 0.9444 - val_loss: 2.0988 - val_accuracy: 0.6367\n",
            "Epoch 93/100\n",
            "8/8 [==============================] - 18s 2s/step - loss: 0.1680 - accuracy: 0.9333 - val_loss: 2.3986 - val_accuracy: 0.6641\n",
            "Epoch 94/100\n",
            "8/8 [==============================] - 18s 2s/step - loss: 0.1889 - accuracy: 0.9210 - val_loss: 1.9298 - val_accuracy: 0.6680\n",
            "Epoch 95/100\n",
            "8/8 [==============================] - 18s 2s/step - loss: 0.1425 - accuracy: 0.9466 - val_loss: 2.9123 - val_accuracy: 0.6562\n",
            "Epoch 96/100\n",
            "8/8 [==============================] - 18s 2s/step - loss: 0.1784 - accuracy: 0.9333 - val_loss: 1.9957 - val_accuracy: 0.6680\n",
            "Epoch 97/100\n",
            "8/8 [==============================] - 18s 2s/step - loss: 0.1327 - accuracy: 0.9488 - val_loss: 2.8458 - val_accuracy: 0.6523\n",
            "Epoch 98/100\n",
            "8/8 [==============================] - 18s 2s/step - loss: 0.1341 - accuracy: 0.9533 - val_loss: 2.7364 - val_accuracy: 0.6562\n",
            "Epoch 99/100\n",
            "8/8 [==============================] - 18s 2s/step - loss: 0.2064 - accuracy: 0.9177 - val_loss: 1.2978 - val_accuracy: 0.7500\n",
            "Epoch 100/100\n",
            "8/8 [==============================] - 20s 3s/step - loss: 0.1379 - accuracy: 0.9492 - val_loss: 3.0148 - val_accuracy: 0.6445\n"
          ],
          "name": "stdout"
        }
      ]
    },
    {
      "cell_type": "code",
      "metadata": {
        "colab_type": "code",
        "id": "7zNPRWOVJdOH",
        "colab": {
          "base_uri": "https://localhost:8080/",
          "height": 545
        },
        "outputId": "a0115977-c7fe-46d7-cd0b-46781dd27d5a"
      },
      "source": [
        "import matplotlib.pyplot as plt\n",
        "acc = history.history['accuracy']\n",
        "val_acc = history.history['val_accuracy']\n",
        "loss = history.history['loss']\n",
        "val_loss = history.history['val_loss']\n",
        "\n",
        "epochs = range(len(acc))\n",
        "\n",
        "plt.plot(epochs, acc, 'r', label='Training accuracy')\n",
        "plt.plot(epochs, val_acc, 'b', label='Validation accuracy')\n",
        "plt.title('Training and validation accuracy')\n",
        "\n",
        "plt.figure()\n",
        "\n",
        "plt.plot(epochs, loss, 'r', label='Training Loss')\n",
        "plt.plot(epochs, val_loss, 'b', label='Validation Loss')\n",
        "plt.title('Training and validation loss')\n",
        "plt.legend()\n",
        "\n",
        "plt.show()"
      ],
      "execution_count": 8,
      "outputs": [
        {
          "output_type": "display_data",
          "data": {
            "image/png": "[encoded data removed]",
            "text/plain": [
              "<Figure size 432x288 with 1 Axes>"
            ]
          },
          "metadata": {
            "tags": [],
            "needs_background": "light"
          }
        },
        {
          "output_type": "display_data",
          "data": {
            "image/png": "[encoded data removed]",
            "text/plain": [
              "<Figure size 432x288 with 1 Axes>"
            ]
          },
          "metadata": {
            "tags": [],
            "needs_background": "light"
          }
        }
      ]
    }
  ]
}