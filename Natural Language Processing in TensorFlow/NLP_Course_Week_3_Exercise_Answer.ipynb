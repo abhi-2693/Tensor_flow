{
  "nbformat": 4,
  "nbformat_minor": 0,
  "metadata": {
    "accelerator": "GPU",
    "colab": {
      "name": "NLP Course - Week 3 Exercise Answer.ipynb",
      "provenance": [],
      "toc_visible": true
    },
    "kernelspec": {
      "display_name": "Python 3",
      "name": "python3"
    }
  },
  "cells": [
    {
      "cell_type": "code",
      "metadata": {
        "id": "zX4Kg8DUTKWO",
        "colab_type": "code",
        "colab": {}
      },
      "source": [
        "#@title Licensed under the Apache License, Version 2.0 (the \"License\");\n",
        "# you may not use this file except in compliance with the License.\n",
        "# You may obtain a copy of the License at\n",
        "#\n",
        "# https://www.apache.org/licenses/LICENSE-2.0\n",
        "#\n",
        "# Unless required by applicable law or agreed to in writing, software\n",
        "# distributed under the License is distributed on an \"AS IS\" BASIS,\n",
        "# WITHOUT WARRANTIES OR CONDITIONS OF ANY KIND, either express or implied.\n",
        "# See the License for the specific language governing permissions and\n",
        "# limitations under the License."
      ],
      "execution_count": 0,
      "outputs": []
    },
    {
      "cell_type": "code",
      "metadata": {
        "colab_type": "code",
        "id": "hmA6EzkQJ5jt",
        "colab": {}
      },
      "source": [
        "import json\n",
        "import tensorflow as tf\n",
        "import csv\n",
        "import random\n",
        "import numpy as np\n",
        "\n",
        "from tensorflow.keras.preprocessing.text import Tokenizer\n",
        "from tensorflow.keras.preprocessing.sequence import pad_sequences\n",
        "from tensorflow.keras.utils import to_categorical\n",
        "from tensorflow.keras import regularizers\n",
        "\n",
        "\n",
        "embedding_dim = 100\n",
        "max_length = 16\n",
        "trunc_type='post'\n",
        "padding_type='post'\n",
        "oov_tok = \"<OOV>\"\n",
        "training_size=160000\n",
        "test_portion=.1\n",
        "\n",
        "corpus = []\n"
      ],
      "execution_count": 0,
      "outputs": []
    },
    {
      "cell_type": "code",
      "metadata": {
        "colab_type": "code",
        "id": "bM0l_dORKqE0",
        "outputId": "cd8e7faf-032e-428a-c6aa-3d79f14b320d",
        "colab": {
          "base_uri": "https://localhost:8080/",
          "height": 204
        }
      },
      "source": [
        "# Note that I cleaned the Stanford dataset to remove LATIN1 encoding to make it easier for Python CSV reader\n",
        "# You can do that yourself with:\n",
        "# iconv -f LATIN1 -t UTF8 training.1600000.processed.noemoticon.csv -o training_cleaned.csv\n",
        "# I then hosted it on my site to make it easier to use in this notebook\n",
        "\n",
        "!wget --no-check-certificate \\\n",
        "    https://storage.googleapis.com/laurencemoroney-blog.appspot.com/training_cleaned.csv \\\n",
        "    -O /tmp/training_cleaned.csv\n",
        "\n",
        "num_sentences = 0\n",
        "\n",
        "with open(\"/tmp/training_cleaned.csv\") as csvfile:\n",
        "    reader = csv.reader(csvfile, delimiter=',')\n",
        "    for row in reader:\n",
        "        list_item=[]\n",
        "        list_item.append(row[5])\n",
        "        this_label=row[0]\n",
        "        if this_label=='0':\n",
        "            list_item.append(0)\n",
        "        else:\n",
        "            list_item.append(1)\n",
        "        num_sentences = num_sentences + 1\n",
        "        corpus.append(list_item)\n"
      ],
      "execution_count": 3,
      "outputs": [
        {
          "output_type": "stream",
          "text": [
            "--2020-05-08 17:25:58--  https://storage.googleapis.com/laurencemoroney-blog.appspot.com/training_cleaned.csv\n",
            "Resolving storage.googleapis.com (storage.googleapis.com)... 74.125.203.128, 2404:6800:4008:c03::80\n",
            "Connecting to storage.googleapis.com (storage.googleapis.com)|74.125.203.128|:443... connected.\n",
            "HTTP request sent, awaiting response... 200 OK\n",
            "Length: 238942690 (228M) [application/octet-stream]\n",
            "Saving to: ‘/tmp/training_cleaned.csv’\n",
            "\n",
            "/tmp/training_clean 100%[===================>] 227.87M   105MB/s    in 2.2s    \n",
            "\n",
            "2020-05-08 17:26:01 (105 MB/s) - ‘/tmp/training_cleaned.csv’ saved [238942690/238942690]\n",
            "\n"
          ],
          "name": "stdout"
        }
      ]
    },
    {
      "cell_type": "code",
      "metadata": {
        "colab_type": "code",
        "id": "3kxblBUjEUX-",
        "outputId": "42892b89-d7ef-473f-d4fe-7b3b75c815b0",
        "colab": {
          "base_uri": "https://localhost:8080/",
          "height": 68
        }
      },
      "source": [
        "print(num_sentences)\n",
        "print(len(corpus))\n",
        "print(corpus[1])\n",
        "\n",
        "# Expected Output:\n",
        "# 1600000\n",
        "# 1600000\n",
        "# [\"is upset that he can't update his Facebook by texting it... and might cry as a result  School today also. Blah!\", 0]"
      ],
      "execution_count": 4,
      "outputs": [
        {
          "output_type": "stream",
          "text": [
            "1600000\n",
            "1600000\n",
            "[\"is upset that he can't update his Facebook by texting it... and might cry as a result  School today also. Blah!\", 0]\n"
          ],
          "name": "stdout"
        }
      ]
    },
    {
      "cell_type": "code",
      "metadata": {
        "colab_type": "code",
        "id": "ohOGz24lsNAD",
        "colab": {}
      },
      "source": [
        "sentences=[]\n",
        "labels=[]\n",
        "random.shuffle(corpus)\n",
        "for x in range(training_size):\n",
        "    sentences.append(corpus[x][0])\n",
        "    labels.append(corpus[x][1])\n",
        "\n",
        "\n",
        "tokenizer = Tokenizer()\n",
        "tokenizer.fit_on_texts(sentences)\n",
        "\n",
        "word_index = tokenizer.word_index\n",
        "vocab_size=len(word_index)\n",
        "\n",
        "sequences = tokenizer.texts_to_sequences(sentences)\n",
        "padded = pad_sequences(sequences, maxlen=max_length, padding=padding_type, truncating=trunc_type)\n",
        "\n",
        "split = int(test_portion * training_size)\n",
        "\n",
        "test_sequences = padded[0:split]\n",
        "training_sequences = padded[split:training_size]\n",
        "test_labels = labels[0:split]\n",
        "training_labels = labels[split:training_size]"
      ],
      "execution_count": 0,
      "outputs": []
    },
    {
      "cell_type": "code",
      "metadata": {
        "colab_type": "code",
        "id": "gIrtRem1En3N",
        "outputId": "2231576e-4653-4d32-d6e8-8882ea6e49ba",
        "colab": {
          "base_uri": "https://localhost:8080/",
          "height": 51
        }
      },
      "source": [
        "print(vocab_size)\n",
        "print(word_index['i'])\n",
        "# Expected Output\n",
        "# 138858\n",
        "# 1"
      ],
      "execution_count": 6,
      "outputs": [
        {
          "output_type": "stream",
          "text": [
            "138205\n",
            "1\n"
          ],
          "name": "stdout"
        }
      ]
    },
    {
      "cell_type": "code",
      "metadata": {
        "colab_type": "code",
        "id": "C1zdgJkusRh0",
        "outputId": "fb0fc344-3783-4c71-9fba-af31e716aaf9",
        "colab": {
          "base_uri": "https://localhost:8080/",
          "height": 204
        }
      },
      "source": [
        "# Note this is the 100 dimension version of GloVe from Stanford\n",
        "# I unzipped and hosted it on my site to make this notebook easier\n",
        "!wget --no-check-certificate \\\n",
        "    https://storage.googleapis.com/laurencemoroney-blog.appspot.com/glove.6B.100d.txt \\\n",
        "    -O /tmp/glove.6B.100d.txt\n",
        "embeddings_index = {};\n",
        "with open('/tmp/glove.6B.100d.txt') as f:\n",
        "    for line in f:\n",
        "        values = line.split();\n",
        "        word = values[0];\n",
        "        coefs = np.asarray(values[1:], dtype='float32');\n",
        "        embeddings_index[word] = coefs;\n",
        "\n",
        "embeddings_matrix = np.zeros((vocab_size+1, embedding_dim));\n",
        "for word, i in word_index.items():\n",
        "    embedding_vector = embeddings_index.get(word);\n",
        "    if embedding_vector is not None:\n",
        "        embeddings_matrix[i] = embedding_vector;"
      ],
      "execution_count": 7,
      "outputs": [
        {
          "output_type": "stream",
          "text": [
            "--2020-05-08 17:26:18--  https://storage.googleapis.com/laurencemoroney-blog.appspot.com/glove.6B.100d.txt\n",
            "Resolving storage.googleapis.com (storage.googleapis.com)... 74.125.204.128, 2404:6800:4008:c03::80\n",
            "Connecting to storage.googleapis.com (storage.googleapis.com)|74.125.204.128|:443... connected.\n",
            "HTTP request sent, awaiting response... 200 OK\n",
            "Length: 347116733 (331M) [text/plain]\n",
            "Saving to: ‘/tmp/glove.6B.100d.txt’\n",
            "\n",
            "/tmp/glove.6B.100d. 100%[===================>] 331.04M  69.0MB/s    in 4.8s    \n",
            "\n",
            "2020-05-08 17:26:23 (69.0 MB/s) - ‘/tmp/glove.6B.100d.txt’ saved [347116733/347116733]\n",
            "\n"
          ],
          "name": "stdout"
        }
      ]
    },
    {
      "cell_type": "code",
      "metadata": {
        "colab_type": "code",
        "id": "71NLk_lpFLNt",
        "outputId": "ba9c2c71-9578-4f03-886a-c4b8da2d5b37",
        "colab": {
          "base_uri": "https://localhost:8080/",
          "height": 34
        }
      },
      "source": [
        "print(len(embeddings_matrix))\n",
        "# Expected Output\n",
        "# 138859"
      ],
      "execution_count": 8,
      "outputs": [
        {
          "output_type": "stream",
          "text": [
            "138206\n"
          ],
          "name": "stdout"
        }
      ]
    },
    {
      "cell_type": "code",
      "metadata": {
        "colab_type": "code",
        "id": "iKKvbuEBOGFz",
        "colab": {
          "base_uri": "https://localhost:8080/",
          "height": 1000
        },
        "outputId": "ddc4f670-5580-43bd-fba9-b8caf1751188"
      },
      "source": [
        "model = tf.keras.Sequential([\n",
        "    tf.keras.layers.Embedding(vocab_size+1, embedding_dim, input_length=max_length, weights=[embeddings_matrix], trainable=False),\n",
        "    tf.keras.layers.Dropout(0.2),\n",
        "    tf.keras.layers.Conv1D(64, 5, activation='relu'),\n",
        "    tf.keras.layers.MaxPooling1D(pool_size=4),\n",
        "    tf.keras.layers.LSTM(64),\n",
        "    tf.keras.layers.Dense(1, activation='sigmoid')\n",
        "])\n",
        "model.compile(loss='binary_crossentropy',optimizer='adam',metrics=['accuracy'])\n",
        "model.summary()\n",
        "\n",
        "num_epochs = 50\n",
        "\n",
        "training_sequences = np.array(training_sequences)\n",
        "training_labels = np.array(training_labels)\n",
        "test_sequences = np.array(test_sequences)\n",
        "test_labels = np.array(test_labels)\n",
        "\n",
        "history = model.fit(training_sequences, training_labels, epochs=num_epochs, validation_data=(test_sequences, test_labels), verbose=2)\n",
        "\n",
        "print(\"Training Complete\")\n"
      ],
      "execution_count": 10,
      "outputs": [
        {
          "output_type": "stream",
          "text": [
            "Model: \"sequential_1\"\n",
            "_________________________________________________________________\n",
            "Layer (type)                 Output Shape              Param #   \n",
            "=================================================================\n",
            "embedding_1 (Embedding)      (None, 16, 100)           13820600  \n",
            "_________________________________________________________________\n",
            "dropout_1 (Dropout)          (None, 16, 100)           0         \n",
            "_________________________________________________________________\n",
            "conv1d_1 (Conv1D)            (None, 12, 64)            32064     \n",
            "_________________________________________________________________\n",
            "max_pooling1d_1 (MaxPooling1 (None, 3, 64)             0         \n",
            "_________________________________________________________________\n",
            "lstm_1 (LSTM)                (None, 64)                33024     \n",
            "_________________________________________________________________\n",
            "dense_1 (Dense)              (None, 1)                 65        \n",
            "=================================================================\n",
            "Total params: 13,885,753\n",
            "Trainable params: 65,153\n",
            "Non-trainable params: 13,820,600\n",
            "_________________________________________________________________\n",
            "Epoch 1/50\n",
            "4500/4500 - 21s - loss: 0.5661 - accuracy: 0.6998 - val_loss: 0.5272 - val_accuracy: 0.7299\n",
            "Epoch 2/50\n",
            "4500/4500 - 20s - loss: 0.5254 - accuracy: 0.7325 - val_loss: 0.5112 - val_accuracy: 0.7433\n",
            "Epoch 3/50\n",
            "4500/4500 - 20s - loss: 0.5098 - accuracy: 0.7453 - val_loss: 0.5070 - val_accuracy: 0.7461\n",
            "Epoch 4/50\n",
            "4500/4500 - 21s - loss: 0.4974 - accuracy: 0.7538 - val_loss: 0.5075 - val_accuracy: 0.7473\n",
            "Epoch 5/50\n",
            "4500/4500 - 20s - loss: 0.4887 - accuracy: 0.7598 - val_loss: 0.5051 - val_accuracy: 0.7459\n",
            "Epoch 6/50\n",
            "4500/4500 - 20s - loss: 0.4813 - accuracy: 0.7641 - val_loss: 0.5128 - val_accuracy: 0.7433\n",
            "Epoch 7/50\n",
            "4500/4500 - 20s - loss: 0.4763 - accuracy: 0.7682 - val_loss: 0.5031 - val_accuracy: 0.7494\n",
            "Epoch 8/50\n",
            "4500/4500 - 20s - loss: 0.4714 - accuracy: 0.7696 - val_loss: 0.5074 - val_accuracy: 0.7498\n",
            "Epoch 9/50\n",
            "4500/4500 - 20s - loss: 0.4646 - accuracy: 0.7751 - val_loss: 0.5055 - val_accuracy: 0.7494\n",
            "Epoch 10/50\n",
            "4500/4500 - 20s - loss: 0.4620 - accuracy: 0.7762 - val_loss: 0.5139 - val_accuracy: 0.7474\n",
            "Epoch 11/50\n",
            "4500/4500 - 21s - loss: 0.4579 - accuracy: 0.7790 - val_loss: 0.5074 - val_accuracy: 0.7511\n",
            "Epoch 12/50\n",
            "4500/4500 - 20s - loss: 0.4565 - accuracy: 0.7797 - val_loss: 0.5050 - val_accuracy: 0.7548\n",
            "Epoch 13/50\n",
            "4500/4500 - 20s - loss: 0.4529 - accuracy: 0.7834 - val_loss: 0.5016 - val_accuracy: 0.7544\n",
            "Epoch 14/50\n",
            "4500/4500 - 20s - loss: 0.4503 - accuracy: 0.7842 - val_loss: 0.5075 - val_accuracy: 0.7538\n",
            "Epoch 15/50\n",
            "4500/4500 - 20s - loss: 0.4472 - accuracy: 0.7853 - val_loss: 0.5056 - val_accuracy: 0.7524\n",
            "Epoch 16/50\n",
            "4500/4500 - 20s - loss: 0.4455 - accuracy: 0.7879 - val_loss: 0.5171 - val_accuracy: 0.7517\n",
            "Epoch 17/50\n",
            "4500/4500 - 20s - loss: 0.4452 - accuracy: 0.7873 - val_loss: 0.5145 - val_accuracy: 0.7472\n",
            "Epoch 18/50\n",
            "4500/4500 - 20s - loss: 0.4437 - accuracy: 0.7878 - val_loss: 0.5148 - val_accuracy: 0.7509\n",
            "Epoch 19/50\n",
            "4500/4500 - 21s - loss: 0.4410 - accuracy: 0.7896 - val_loss: 0.5133 - val_accuracy: 0.7523\n",
            "Epoch 20/50\n",
            "4500/4500 - 20s - loss: 0.4396 - accuracy: 0.7904 - val_loss: 0.5109 - val_accuracy: 0.7554\n",
            "Epoch 21/50\n",
            "4500/4500 - 20s - loss: 0.4386 - accuracy: 0.7909 - val_loss: 0.5135 - val_accuracy: 0.7527\n",
            "Epoch 22/50\n",
            "4500/4500 - 20s - loss: 0.4381 - accuracy: 0.7913 - val_loss: 0.5193 - val_accuracy: 0.7518\n",
            "Epoch 23/50\n",
            "4500/4500 - 20s - loss: 0.4366 - accuracy: 0.7912 - val_loss: 0.5178 - val_accuracy: 0.7504\n",
            "Epoch 24/50\n",
            "4500/4500 - 20s - loss: 0.4360 - accuracy: 0.7935 - val_loss: 0.5147 - val_accuracy: 0.7473\n",
            "Epoch 25/50\n",
            "4500/4500 - 20s - loss: 0.4349 - accuracy: 0.7921 - val_loss: 0.5166 - val_accuracy: 0.7496\n",
            "Epoch 26/50\n",
            "4500/4500 - 21s - loss: 0.4341 - accuracy: 0.7943 - val_loss: 0.5249 - val_accuracy: 0.7463\n",
            "Epoch 27/50\n",
            "4500/4500 - 20s - loss: 0.4325 - accuracy: 0.7948 - val_loss: 0.5167 - val_accuracy: 0.7514\n",
            "Epoch 28/50\n",
            "4500/4500 - 20s - loss: 0.4321 - accuracy: 0.7942 - val_loss: 0.5173 - val_accuracy: 0.7468\n",
            "Epoch 29/50\n",
            "4500/4500 - 20s - loss: 0.4311 - accuracy: 0.7940 - val_loss: 0.5177 - val_accuracy: 0.7505\n",
            "Epoch 30/50\n",
            "4500/4500 - 20s - loss: 0.4307 - accuracy: 0.7953 - val_loss: 0.5161 - val_accuracy: 0.7479\n",
            "Epoch 31/50\n",
            "4500/4500 - 20s - loss: 0.4302 - accuracy: 0.7950 - val_loss: 0.5156 - val_accuracy: 0.7483\n",
            "Epoch 32/50\n",
            "4500/4500 - 20s - loss: 0.4302 - accuracy: 0.7955 - val_loss: 0.5135 - val_accuracy: 0.7515\n",
            "Epoch 33/50\n",
            "4500/4500 - 20s - loss: 0.4305 - accuracy: 0.7964 - val_loss: 0.5122 - val_accuracy: 0.7520\n",
            "Epoch 34/50\n",
            "4500/4500 - 20s - loss: 0.4300 - accuracy: 0.7959 - val_loss: 0.5091 - val_accuracy: 0.7491\n",
            "Epoch 35/50\n",
            "4500/4500 - 21s - loss: 0.4294 - accuracy: 0.7962 - val_loss: 0.5147 - val_accuracy: 0.7513\n",
            "Epoch 36/50\n",
            "4500/4500 - 20s - loss: 0.4287 - accuracy: 0.7962 - val_loss: 0.5152 - val_accuracy: 0.7506\n",
            "Epoch 37/50\n",
            "4500/4500 - 20s - loss: 0.4273 - accuracy: 0.7976 - val_loss: 0.5176 - val_accuracy: 0.7542\n",
            "Epoch 38/50\n",
            "4500/4500 - 20s - loss: 0.4274 - accuracy: 0.7978 - val_loss: 0.5153 - val_accuracy: 0.7510\n",
            "Epoch 39/50\n",
            "4500/4500 - 20s - loss: 0.4268 - accuracy: 0.7974 - val_loss: 0.5172 - val_accuracy: 0.7513\n",
            "Epoch 40/50\n",
            "4500/4500 - 20s - loss: 0.4266 - accuracy: 0.7975 - val_loss: 0.5141 - val_accuracy: 0.7519\n",
            "Epoch 41/50\n",
            "4500/4500 - 21s - loss: 0.4264 - accuracy: 0.7984 - val_loss: 0.5177 - val_accuracy: 0.7512\n",
            "Epoch 42/50\n",
            "4500/4500 - 20s - loss: 0.4258 - accuracy: 0.7983 - val_loss: 0.5203 - val_accuracy: 0.7505\n",
            "Epoch 43/50\n",
            "4500/4500 - 20s - loss: 0.4258 - accuracy: 0.7987 - val_loss: 0.5172 - val_accuracy: 0.7500\n",
            "Epoch 44/50\n",
            "4500/4500 - 20s - loss: 0.4253 - accuracy: 0.7987 - val_loss: 0.5221 - val_accuracy: 0.7506\n",
            "Epoch 45/50\n",
            "4500/4500 - 20s - loss: 0.4249 - accuracy: 0.7989 - val_loss: 0.5201 - val_accuracy: 0.7533\n",
            "Epoch 46/50\n",
            "4500/4500 - 20s - loss: 0.4256 - accuracy: 0.7981 - val_loss: 0.5180 - val_accuracy: 0.7526\n",
            "Epoch 47/50\n",
            "4500/4500 - 20s - loss: 0.4237 - accuracy: 0.8000 - val_loss: 0.5278 - val_accuracy: 0.7471\n",
            "Epoch 48/50\n",
            "4500/4500 - 20s - loss: 0.4246 - accuracy: 0.7988 - val_loss: 0.5209 - val_accuracy: 0.7504\n",
            "Epoch 49/50\n",
            "4500/4500 - 20s - loss: 0.4236 - accuracy: 0.7998 - val_loss: 0.5214 - val_accuracy: 0.7511\n",
            "Epoch 50/50\n",
            "4500/4500 - 21s - loss: 0.4236 - accuracy: 0.7988 - val_loss: 0.5185 - val_accuracy: 0.7501\n",
            "Training Complete\n"
          ],
          "name": "stdout"
        }
      ]
    },
    {
      "cell_type": "code",
      "metadata": {
        "colab_type": "code",
        "id": "qxju4ItJKO8F",
        "colab": {
          "base_uri": "https://localhost:8080/",
          "height": 607
        },
        "outputId": "a4c4d9b2-50a4-4937-c5be-bb4e8c232812"
      },
      "source": [
        "import matplotlib.image  as mpimg\n",
        "import matplotlib.pyplot as plt\n",
        "\n",
        "#-----------------------------------------------------------\n",
        "# Retrieve a list of list results on training and test data\n",
        "# sets for each training epoch\n",
        "#-----------------------------------------------------------\n",
        "acc=history.history['accuracy']\n",
        "val_acc=history.history['val_accuracy']\n",
        "loss=history.history['loss']\n",
        "val_loss=history.history['val_loss']\n",
        "\n",
        "epochs=range(len(acc)) # Get number of epochs\n",
        "\n",
        "#------------------------------------------------\n",
        "# Plot training and validation accuracy per epoch\n",
        "#------------------------------------------------\n",
        "plt.plot(epochs, acc, 'r')\n",
        "plt.plot(epochs, val_acc, 'b')\n",
        "plt.title('Training and validation accuracy')\n",
        "plt.xlabel(\"Epochs\")\n",
        "plt.ylabel(\"Accuracy\")\n",
        "plt.legend([\"Accuracy\", \"Validation Accuracy\"])\n",
        "\n",
        "plt.figure()\n",
        "\n",
        "#------------------------------------------------\n",
        "# Plot training and validation loss per epoch\n",
        "#------------------------------------------------\n",
        "plt.plot(epochs, loss, 'r')\n",
        "plt.plot(epochs, val_loss, 'b')\n",
        "plt.title('Training and validation loss')\n",
        "plt.xlabel(\"Epochs\")\n",
        "plt.ylabel(\"Loss\")\n",
        "plt.legend([\"Loss\", \"Validation Loss\"])\n",
        "\n",
        "plt.figure()\n",
        "\n",
        "\n",
        "# Expected Output\n",
        "# A chart where the validation loss does not increase sharply!"
      ],
      "execution_count": 11,
      "outputs": [
        {
          "output_type": "execute_result",
          "data": {
            "text/plain": [
              "<Figure size 432x288 with 0 Axes>"
            ]
          },
          "metadata": {
            "tags": []
          },
          "execution_count": 11
        },
        {
          "output_type": "display_data",
          "data": {
            "image/png": "[encoded data removed]",
            "text/plain": [
              "<Figure size 432x288 with 1 Axes>"
            ]
          },
          "metadata": {
            "tags": [],
            "needs_background": "light"
          }
        },
        {
          "output_type": "display_data",
          "data": {
            "image/png": "[encoded data removed]",
            "text/plain": [
              "<Figure size 432x288 with 1 Axes>"
            ]
          },
          "metadata": {
            "tags": [],
            "needs_background": "light"
          }
        },
        {
          "output_type": "display_data",
          "data": {
            "text/plain": [
              "<Figure size 432x288 with 0 Axes>"
            ]
          },
          "metadata": {
            "tags": []
          }
        }
      ]
    },
    {
      "cell_type": "code",
      "metadata": {
        "id": "eQ5G9y-SVu6p",
        "colab_type": "code",
        "colab": {}
      },
      "source": [
        ""
      ],
      "execution_count": 0,
      "outputs": []
    }
  ]
}