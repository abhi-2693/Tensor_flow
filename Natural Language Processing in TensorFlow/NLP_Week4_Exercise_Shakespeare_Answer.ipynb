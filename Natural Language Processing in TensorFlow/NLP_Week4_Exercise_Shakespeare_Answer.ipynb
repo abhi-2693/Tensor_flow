{
  "nbformat": 4,
  "nbformat_minor": 0,
  "metadata": {
    "accelerator": "GPU",
    "colab": {
      "name": "NLP_Week4_Exercise_Shakespeare_Answer.ipynb",
      "provenance": [],
      "toc_visible": true
    },
    "kernelspec": {
      "display_name": "Python 3",
      "name": "python3"
    }
  },
  "cells": [
    {
      "cell_type": "code",
      "metadata": {
        "id": "zX4Kg8DUTKWO",
        "colab_type": "code",
        "colab": {}
      },
      "source": [
        "#@title Licensed under the Apache License, Version 2.0 (the \"License\");\n",
        "# you may not use this file except in compliance with the License.\n",
        "# You may obtain a copy of the License at\n",
        "#\n",
        "# https://www.apache.org/licenses/LICENSE-2.0\n",
        "#\n",
        "# Unless required by applicable law or agreed to in writing, software\n",
        "# distributed under the License is distributed on an \"AS IS\" BASIS,\n",
        "# WITHOUT WARRANTIES OR CONDITIONS OF ANY KIND, either express or implied.\n",
        "# See the License for the specific language governing permissions and\n",
        "# limitations under the License."
      ],
      "execution_count": 0,
      "outputs": []
    },
    {
      "cell_type": "code",
      "metadata": {
        "colab_type": "code",
        "id": "BOwsuGQQY9OL",
        "colab": {}
      },
      "source": [
        "from tensorflow.keras.preprocessing.sequence import pad_sequences\n",
        "from tensorflow.keras.layers import Embedding, LSTM, Dense, Dropout, Bidirectional\n",
        "from tensorflow.keras.preprocessing.text import Tokenizer\n",
        "from tensorflow.keras.models import Sequential\n",
        "from tensorflow.keras.optimizers import Adam\n",
        "from tensorflow.keras import regularizers\n",
        "import tensorflow.keras.utils as ku \n",
        "import numpy as np "
      ],
      "execution_count": 0,
      "outputs": []
    },
    {
      "cell_type": "code",
      "metadata": {
        "colab_type": "code",
        "id": "PRnDnCW-Z7qv",
        "colab": {
          "base_uri": "https://localhost:8080/",
          "height": 204
        },
        "outputId": "71675c0c-4935-47be-b91a-58994ef882a6"
      },
      "source": [
        "tokenizer = Tokenizer()\n",
        "!wget --no-check-certificate \\\n",
        "    https://storage.googleapis.com/laurencemoroney-blog.appspot.com/sonnets.txt \\\n",
        "    -O /tmp/sonnets.txt\n",
        "data = open('/tmp/sonnets.txt').read()\n",
        "\n",
        "corpus = data.lower().split(\"\\n\")\n",
        "\n",
        "\n",
        "tokenizer.fit_on_texts(corpus)\n",
        "total_words = len(tokenizer.word_index) + 1\n",
        "\n",
        "# create input sequences using list of tokens\n",
        "input_sequences = []\n",
        "for line in corpus:\n",
        "\ttoken_list = tokenizer.texts_to_sequences([line])[0]\n",
        "\tfor i in range(1, len(token_list)):\n",
        "\t\tn_gram_sequence = token_list[:i+1]\n",
        "\t\tinput_sequences.append(n_gram_sequence)\n",
        "\n",
        "\n",
        "# pad sequences \n",
        "max_sequence_len = max([len(x) for x in input_sequences])\n",
        "input_sequences = np.array(pad_sequences(input_sequences, maxlen=max_sequence_len, padding='pre'))\n",
        "\n",
        "# create predictors and label\n",
        "predictors, label = input_sequences[:,:-1],input_sequences[:,-1]\n",
        "\n",
        "label = ku.to_categorical(label, num_classes=total_words)"
      ],
      "execution_count": 2,
      "outputs": [
        {
          "output_type": "stream",
          "text": [
            "--2020-05-08 19:15:56--  https://storage.googleapis.com/laurencemoroney-blog.appspot.com/sonnets.txt\n",
            "Resolving storage.googleapis.com (storage.googleapis.com)... 172.217.194.128, 2404:6800:4003:c03::80\n",
            "Connecting to storage.googleapis.com (storage.googleapis.com)|172.217.194.128|:443... connected.\n",
            "HTTP request sent, awaiting response... 200 OK\n",
            "Length: 93578 (91K) [text/plain]\n",
            "Saving to: ‘/tmp/sonnets.txt’\n",
            "\n",
            "\r/tmp/sonnets.txt      0%[                    ]       0  --.-KB/s               \r/tmp/sonnets.txt    100%[===================>]  91.38K  --.-KB/s    in 0.001s  \n",
            "\n",
            "2020-05-08 19:15:56 (135 MB/s) - ‘/tmp/sonnets.txt’ saved [93578/93578]\n",
            "\n"
          ],
          "name": "stdout"
        }
      ]
    },
    {
      "cell_type": "code",
      "metadata": {
        "colab_type": "code",
        "id": "w9vH8Y59ajYL",
        "colab": {
          "base_uri": "https://localhost:8080/",
          "height": 374
        },
        "outputId": "c8b39fcc-53f6-4a13-a473-8b4da9fccf5f"
      },
      "source": [
        "model = Sequential()\n",
        "model.add(Embedding(total_words, 100, input_length=max_sequence_len-1))\n",
        "model.add(Bidirectional(LSTM(150, return_sequences = True)))\n",
        "model.add(Dropout(0.2))\n",
        "model.add(LSTM(100))\n",
        "model.add(Dense(total_words/2, activation='relu', kernel_regularizer=regularizers.l2(0.01)))\n",
        "model.add(Dense(total_words, activation='softmax'))\n",
        "model.compile(loss='categorical_crossentropy', optimizer='adam', metrics=['accuracy'])\n",
        "print(model.summary())\n"
      ],
      "execution_count": 3,
      "outputs": [
        {
          "output_type": "stream",
          "text": [
            "Model: \"sequential\"\n",
            "_________________________________________________________________\n",
            "Layer (type)                 Output Shape              Param #   \n",
            "=================================================================\n",
            "embedding (Embedding)        (None, 10, 100)           321100    \n",
            "_________________________________________________________________\n",
            "bidirectional (Bidirectional (None, 10, 300)           301200    \n",
            "_________________________________________________________________\n",
            "dropout (Dropout)            (None, 10, 300)           0         \n",
            "_________________________________________________________________\n",
            "lstm_1 (LSTM)                (None, 100)               160400    \n",
            "_________________________________________________________________\n",
            "dense (Dense)                (None, 1605)              162105    \n",
            "_________________________________________________________________\n",
            "dense_1 (Dense)              (None, 3211)              5156866   \n",
            "=================================================================\n",
            "Total params: 6,101,671\n",
            "Trainable params: 6,101,671\n",
            "Non-trainable params: 0\n",
            "_________________________________________________________________\n",
            "None\n"
          ],
          "name": "stdout"
        }
      ]
    },
    {
      "cell_type": "code",
      "metadata": {
        "colab_type": "code",
        "id": "AIg2f1HBxqof",
        "colab": {
          "base_uri": "https://localhost:8080/",
          "height": 1000
        },
        "outputId": "c4504b06-2ef0-48b9-f232-2f14c7c8c6d4"
      },
      "source": [
        " history = model.fit(predictors, label, epochs=100, verbose=1)"
      ],
      "execution_count": 4,
      "outputs": [
        {
          "output_type": "stream",
          "text": [
            "Epoch 1/100\n",
            "484/484 [==============================] - 6s 13ms/step - loss: 6.9139 - accuracy: 0.0219\n",
            "Epoch 2/100\n",
            "484/484 [==============================] - 6s 12ms/step - loss: 6.5008 - accuracy: 0.0233\n",
            "Epoch 3/100\n",
            "484/484 [==============================] - 6s 13ms/step - loss: 6.3990 - accuracy: 0.0265\n",
            "Epoch 4/100\n",
            "484/484 [==============================] - 6s 13ms/step - loss: 6.2716 - accuracy: 0.0283\n",
            "Epoch 5/100\n",
            "484/484 [==============================] - 6s 12ms/step - loss: 6.1805 - accuracy: 0.0364\n",
            "Epoch 6/100\n",
            "484/484 [==============================] - 6s 12ms/step - loss: 6.1018 - accuracy: 0.0372\n",
            "Epoch 7/100\n",
            "484/484 [==============================] - 6s 12ms/step - loss: 6.0288 - accuracy: 0.0407\n",
            "Epoch 8/100\n",
            "484/484 [==============================] - 6s 12ms/step - loss: 5.9503 - accuracy: 0.0421\n",
            "Epoch 9/100\n",
            "484/484 [==============================] - 6s 12ms/step - loss: 5.8556 - accuracy: 0.0492\n",
            "Epoch 10/100\n",
            "484/484 [==============================] - 6s 13ms/step - loss: 5.7490 - accuracy: 0.0567\n",
            "Epoch 11/100\n",
            "484/484 [==============================] - 6s 13ms/step - loss: 5.6336 - accuracy: 0.0618\n",
            "Epoch 12/100\n",
            "484/484 [==============================] - 6s 13ms/step - loss: 5.5312 - accuracy: 0.0683\n",
            "Epoch 13/100\n",
            "484/484 [==============================] - 6s 13ms/step - loss: 5.4187 - accuracy: 0.0741\n",
            "Epoch 14/100\n",
            "484/484 [==============================] - 6s 13ms/step - loss: 5.3090 - accuracy: 0.0808\n",
            "Epoch 15/100\n",
            "484/484 [==============================] - 6s 13ms/step - loss: 5.1974 - accuracy: 0.0913\n",
            "Epoch 16/100\n",
            "484/484 [==============================] - 6s 13ms/step - loss: 5.0789 - accuracy: 0.1004\n",
            "Epoch 17/100\n",
            "484/484 [==============================] - 6s 13ms/step - loss: 4.9696 - accuracy: 0.1065\n",
            "Epoch 18/100\n",
            "484/484 [==============================] - 6s 13ms/step - loss: 4.8577 - accuracy: 0.1156\n",
            "Epoch 19/100\n",
            "484/484 [==============================] - 6s 13ms/step - loss: 4.7519 - accuracy: 0.1246\n",
            "Epoch 20/100\n",
            "484/484 [==============================] - 6s 13ms/step - loss: 4.6365 - accuracy: 0.1337\n",
            "Epoch 21/100\n",
            "484/484 [==============================] - 6s 13ms/step - loss: 4.5298 - accuracy: 0.1449\n",
            "Epoch 22/100\n",
            "484/484 [==============================] - 6s 13ms/step - loss: 4.4231 - accuracy: 0.1558\n",
            "Epoch 23/100\n",
            "484/484 [==============================] - 6s 13ms/step - loss: 4.3064 - accuracy: 0.1682\n",
            "Epoch 24/100\n",
            "484/484 [==============================] - 6s 13ms/step - loss: 4.1958 - accuracy: 0.1821\n",
            "Epoch 25/100\n",
            "484/484 [==============================] - 6s 13ms/step - loss: 4.0856 - accuracy: 0.1971\n",
            "Epoch 26/100\n",
            "484/484 [==============================] - 6s 13ms/step - loss: 3.9786 - accuracy: 0.2106\n",
            "Epoch 27/100\n",
            "484/484 [==============================] - 6s 13ms/step - loss: 3.8704 - accuracy: 0.2291\n",
            "Epoch 28/100\n",
            "484/484 [==============================] - 6s 13ms/step - loss: 3.7595 - accuracy: 0.2480\n",
            "Epoch 29/100\n",
            "484/484 [==============================] - 6s 13ms/step - loss: 3.6585 - accuracy: 0.2649\n",
            "Epoch 30/100\n",
            "484/484 [==============================] - 6s 13ms/step - loss: 3.5521 - accuracy: 0.2844\n",
            "Epoch 31/100\n",
            "484/484 [==============================] - 6s 13ms/step - loss: 3.4576 - accuracy: 0.3053\n",
            "Epoch 32/100\n",
            "484/484 [==============================] - 6s 13ms/step - loss: 3.3605 - accuracy: 0.3268\n",
            "Epoch 33/100\n",
            "484/484 [==============================] - 6s 13ms/step - loss: 3.2724 - accuracy: 0.3502\n",
            "Epoch 34/100\n",
            "484/484 [==============================] - 6s 13ms/step - loss: 3.1909 - accuracy: 0.3652\n",
            "Epoch 35/100\n",
            "484/484 [==============================] - 6s 13ms/step - loss: 3.0922 - accuracy: 0.3868\n",
            "Epoch 36/100\n",
            "484/484 [==============================] - 7s 14ms/step - loss: 3.0062 - accuracy: 0.4125\n",
            "Epoch 37/100\n",
            "484/484 [==============================] - 6s 13ms/step - loss: 2.9426 - accuracy: 0.4208\n",
            "Epoch 38/100\n",
            "484/484 [==============================] - 6s 13ms/step - loss: 2.8738 - accuracy: 0.4389\n",
            "Epoch 39/100\n",
            "484/484 [==============================] - 6s 13ms/step - loss: 2.7895 - accuracy: 0.4566\n",
            "Epoch 40/100\n",
            "484/484 [==============================] - 6s 13ms/step - loss: 2.7172 - accuracy: 0.4747\n",
            "Epoch 41/100\n",
            "484/484 [==============================] - 6s 13ms/step - loss: 2.6589 - accuracy: 0.4890\n",
            "Epoch 42/100\n",
            "484/484 [==============================] - 6s 13ms/step - loss: 2.5910 - accuracy: 0.5010\n",
            "Epoch 43/100\n",
            "484/484 [==============================] - 6s 13ms/step - loss: 2.5289 - accuracy: 0.5197\n",
            "Epoch 44/100\n",
            "484/484 [==============================] - 6s 13ms/step - loss: 2.4760 - accuracy: 0.5318\n",
            "Epoch 45/100\n",
            "484/484 [==============================] - 6s 13ms/step - loss: 2.4224 - accuracy: 0.5415\n",
            "Epoch 46/100\n",
            "484/484 [==============================] - 6s 13ms/step - loss: 2.3620 - accuracy: 0.5557\n",
            "Epoch 47/100\n",
            "484/484 [==============================] - 6s 13ms/step - loss: 2.3157 - accuracy: 0.5676\n",
            "Epoch 48/100\n",
            "484/484 [==============================] - 6s 13ms/step - loss: 2.2615 - accuracy: 0.5779\n",
            "Epoch 49/100\n",
            "484/484 [==============================] - 6s 13ms/step - loss: 2.2167 - accuracy: 0.5909\n",
            "Epoch 50/100\n",
            "484/484 [==============================] - 6s 13ms/step - loss: 2.1742 - accuracy: 0.5953\n",
            "Epoch 51/100\n",
            "484/484 [==============================] - 6s 13ms/step - loss: 2.1165 - accuracy: 0.6109\n",
            "Epoch 52/100\n",
            "484/484 [==============================] - 6s 12ms/step - loss: 2.0812 - accuracy: 0.6160\n",
            "Epoch 53/100\n",
            "484/484 [==============================] - 6s 13ms/step - loss: 2.0437 - accuracy: 0.6260\n",
            "Epoch 54/100\n",
            "484/484 [==============================] - 6s 12ms/step - loss: 2.0026 - accuracy: 0.6332\n",
            "Epoch 55/100\n",
            "484/484 [==============================] - 6s 13ms/step - loss: 1.9669 - accuracy: 0.6428\n",
            "Epoch 56/100\n",
            "484/484 [==============================] - 6s 13ms/step - loss: 1.9326 - accuracy: 0.6502\n",
            "Epoch 57/100\n",
            "484/484 [==============================] - 6s 13ms/step - loss: 1.8876 - accuracy: 0.6593\n",
            "Epoch 58/100\n",
            "484/484 [==============================] - 6s 12ms/step - loss: 1.8516 - accuracy: 0.6673\n",
            "Epoch 59/100\n",
            "484/484 [==============================] - 6s 12ms/step - loss: 1.8171 - accuracy: 0.6765\n",
            "Epoch 60/100\n",
            "484/484 [==============================] - 6s 12ms/step - loss: 1.7917 - accuracy: 0.6819\n",
            "Epoch 61/100\n",
            "484/484 [==============================] - 6s 13ms/step - loss: 1.7638 - accuracy: 0.6877\n",
            "Epoch 62/100\n",
            "484/484 [==============================] - 6s 13ms/step - loss: 1.7311 - accuracy: 0.6917\n",
            "Epoch 63/100\n",
            "484/484 [==============================] - 6s 12ms/step - loss: 1.6995 - accuracy: 0.7004\n",
            "Epoch 64/100\n",
            "484/484 [==============================] - 6s 12ms/step - loss: 1.6940 - accuracy: 0.7002\n",
            "Epoch 65/100\n",
            "484/484 [==============================] - 6s 12ms/step - loss: 1.6571 - accuracy: 0.7095\n",
            "Epoch 66/100\n",
            "484/484 [==============================] - 6s 12ms/step - loss: 1.6131 - accuracy: 0.7183\n",
            "Epoch 67/100\n",
            "484/484 [==============================] - 6s 13ms/step - loss: 1.6014 - accuracy: 0.7179\n",
            "Epoch 68/100\n",
            "484/484 [==============================] - 6s 12ms/step - loss: 1.5728 - accuracy: 0.7255\n",
            "Epoch 69/100\n",
            "484/484 [==============================] - 6s 12ms/step - loss: 1.5577 - accuracy: 0.7277\n",
            "Epoch 70/100\n",
            "484/484 [==============================] - 6s 13ms/step - loss: 1.5331 - accuracy: 0.7321\n",
            "Epoch 71/100\n",
            "484/484 [==============================] - 6s 13ms/step - loss: 1.5026 - accuracy: 0.7405\n",
            "Epoch 72/100\n",
            "484/484 [==============================] - 6s 13ms/step - loss: 1.4878 - accuracy: 0.7392\n",
            "Epoch 73/100\n",
            "484/484 [==============================] - 6s 12ms/step - loss: 1.4727 - accuracy: 0.7441\n",
            "Epoch 74/100\n",
            "484/484 [==============================] - 6s 12ms/step - loss: 1.4483 - accuracy: 0.7471\n",
            "Epoch 75/100\n",
            "484/484 [==============================] - 6s 12ms/step - loss: 1.4299 - accuracy: 0.7515\n",
            "Epoch 76/100\n",
            "484/484 [==============================] - 6s 12ms/step - loss: 1.4078 - accuracy: 0.7545\n",
            "Epoch 77/100\n",
            "484/484 [==============================] - 6s 12ms/step - loss: 1.4102 - accuracy: 0.7539\n",
            "Epoch 78/100\n",
            "484/484 [==============================] - 6s 12ms/step - loss: 1.3914 - accuracy: 0.7568\n",
            "Epoch 79/100\n",
            "484/484 [==============================] - 6s 12ms/step - loss: 1.3631 - accuracy: 0.7632\n",
            "Epoch 80/100\n",
            "484/484 [==============================] - 6s 12ms/step - loss: 1.3442 - accuracy: 0.7686\n",
            "Epoch 81/100\n",
            "484/484 [==============================] - 6s 12ms/step - loss: 1.3338 - accuracy: 0.7701\n",
            "Epoch 82/100\n",
            "484/484 [==============================] - 6s 13ms/step - loss: 1.3144 - accuracy: 0.7736\n",
            "Epoch 83/100\n",
            "484/484 [==============================] - 6s 13ms/step - loss: 1.3052 - accuracy: 0.7742\n",
            "Epoch 84/100\n",
            "484/484 [==============================] - 6s 13ms/step - loss: 1.2871 - accuracy: 0.7775\n",
            "Epoch 85/100\n",
            "484/484 [==============================] - 6s 12ms/step - loss: 1.2799 - accuracy: 0.7771\n",
            "Epoch 86/100\n",
            "484/484 [==============================] - 6s 12ms/step - loss: 1.2619 - accuracy: 0.7802\n",
            "Epoch 87/100\n",
            "484/484 [==============================] - 6s 13ms/step - loss: 1.2504 - accuracy: 0.7841\n",
            "Epoch 88/100\n",
            "484/484 [==============================] - 6s 13ms/step - loss: 1.2354 - accuracy: 0.7879\n",
            "Epoch 89/100\n",
            "484/484 [==============================] - 6s 13ms/step - loss: 1.2096 - accuracy: 0.7912\n",
            "Epoch 90/100\n",
            "484/484 [==============================] - 6s 12ms/step - loss: 1.2110 - accuracy: 0.7899\n",
            "Epoch 91/100\n",
            "484/484 [==============================] - 6s 13ms/step - loss: 1.2128 - accuracy: 0.7878\n",
            "Epoch 92/100\n",
            "484/484 [==============================] - 7s 13ms/step - loss: 1.1978 - accuracy: 0.7897\n",
            "Epoch 93/100\n",
            "484/484 [==============================] - 6s 13ms/step - loss: 1.1833 - accuracy: 0.7945\n",
            "Epoch 94/100\n",
            "484/484 [==============================] - 6s 13ms/step - loss: 1.1660 - accuracy: 0.8005\n",
            "Epoch 95/100\n",
            "484/484 [==============================] - 6s 13ms/step - loss: 1.1453 - accuracy: 0.8033\n",
            "Epoch 96/100\n",
            "484/484 [==============================] - 6s 13ms/step - loss: 1.1545 - accuracy: 0.7970\n",
            "Epoch 97/100\n",
            "484/484 [==============================] - 6s 13ms/step - loss: 1.1410 - accuracy: 0.7982\n",
            "Epoch 98/100\n",
            "484/484 [==============================] - 6s 12ms/step - loss: 1.1265 - accuracy: 0.8027\n",
            "Epoch 99/100\n",
            "484/484 [==============================] - 6s 12ms/step - loss: 1.1208 - accuracy: 0.8027\n",
            "Epoch 100/100\n",
            "484/484 [==============================] - 6s 12ms/step - loss: 1.1158 - accuracy: 0.8020\n"
          ],
          "name": "stdout"
        }
      ]
    },
    {
      "cell_type": "code",
      "metadata": {
        "colab_type": "code",
        "id": "1fXTEO3GJ282",
        "colab": {
          "base_uri": "https://localhost:8080/",
          "height": 545
        },
        "outputId": "1e3af635-2bd7-444f-f701-ad4c8352d2be"
      },
      "source": [
        "import matplotlib.pyplot as plt\n",
        "acc = history.history['accuracy']\n",
        "loss = history.history['loss']\n",
        "\n",
        "epochs = range(len(acc))\n",
        "\n",
        "plt.plot(epochs, acc, 'b', label='Training accuracy')\n",
        "plt.title('Training accuracy')\n",
        "\n",
        "plt.figure()\n",
        "\n",
        "plt.plot(epochs, loss, 'b', label='Training Loss')\n",
        "plt.title('Training loss')\n",
        "plt.legend()\n",
        "\n",
        "plt.show()"
      ],
      "execution_count": 5,
      "outputs": [
        {
          "output_type": "display_data",
          "data": {
            "image/png": "[encoded data removed]",
            "text/plain": [
              "<Figure size 432x288 with 1 Axes>"
            ]
          },
          "metadata": {
            "tags": [],
            "needs_background": "light"
          }
        },
        {
          "output_type": "display_data",
          "data": {
            "image/png": "[encoded data removed]",
            "text/plain": [
              "<Figure size 432x288 with 1 Axes>"
            ]
          },
          "metadata": {
            "tags": [],
            "needs_background": "light"
          }
        }
      ]
    },
    {
      "cell_type": "code",
      "metadata": {
        "colab_type": "code",
        "id": "6Vc6PHgxa6Hm",
        "colab": {
          "base_uri": "https://localhost:8080/",
          "height": 105
        },
        "outputId": "0fc1546c-b691-4ff0-a58e-9c6c87b44381"
      },
      "source": [
        "seed_text = \"Help me Obi Wan Kenobi, you're my only hope\"\n",
        "next_words = 100\n",
        "  \n",
        "for _ in range(next_words):\n",
        "\ttoken_list = tokenizer.texts_to_sequences([seed_text])[0]\n",
        "\ttoken_list = pad_sequences([token_list], maxlen=max_sequence_len-1, padding='pre')\n",
        "\tpredicted = model.predict_classes(token_list, verbose=0)\n",
        "\toutput_word = \"\"\n",
        "\tfor word, index in tokenizer.word_index.items():\n",
        "\t\tif index == predicted:\n",
        "\t\t\toutput_word = word\n",
        "\t\t\tbreak\n",
        "\tseed_text += \" \" + output_word\n",
        "print(seed_text)"
      ],
      "execution_count": 6,
      "outputs": [
        {
          "output_type": "stream",
          "text": [
            "WARNING:tensorflow:From <ipython-input-6-622d307fa19a>:7: Sequential.predict_classes (from tensorflow.python.keras.engine.sequential) is deprecated and will be removed after 2021-01-01.\n",
            "Instructions for updating:\n",
            "Please use instead:* `np.argmax(model.predict(x), axis=-1)`,   if your model does multi-class classification   (e.g. if it uses a `softmax` last-layer activation).* `(model.predict(x) > 0.5).astype(\"int32\")`,   if your model does binary classification   (e.g. if it uses a `sigmoid` last-layer activation).\n",
            "Help me Obi Wan Kenobi, you're my only hope the world should look thee decays strife rare gone thus enough that words alone out the ground light go wide name to taken room shown torn made fair themselves away quite cross must be gone to thee to catch me hate so much she so wrong prove to latch twain scope still care things weeks taken away or care away care alone open speechless air hid away up care care away forth speaking dead short away quite weeks taken mother esteem'd weeds flow cross cross cross cross cross cross shown cross cross rare rare place made time's waste deny still\n"
          ],
          "name": "stdout"
        }
      ]
    }
  ]
}