{
 "cells": [
  {
   "cell_type": "code",
   "execution_count": 7,
   "metadata": {
    "colab": {},
    "colab_type": "code",
    "id": "zX4Kg8DUTKWO"
   },
   "outputs": [],
   "source": [
    "#@title Licensed under the Apache License, Version 2.0 (the \"License\");\n",
    "# you may not use this file except in compliance with the License.\n",
    "# You may obtain a copy of the License at\n",
    "#\n",
    "# https://www.apache.org/licenses/LICENSE-2.0\n",
    "#\n",
    "# Unless required by applicable law or agreed to in writing, software\n",
    "# distributed under the License is distributed on an \"AS IS\" BASIS,\n",
    "# WITHOUT WARRANTIES OR CONDITIONS OF ANY KIND, either express or implied.\n",
    "# See the License for the specific language governing permissions and\n",
    "# limitations under the License."
   ]
  },
  {
   "cell_type": "markdown",
   "metadata": {
    "colab_type": "text",
    "id": "view-in-github"
   },
   "source": [
    "<a href=\"https://colab.research.google.com/github/lmoroney/dlaicourse/blob/master/TensorFlow%20In%20Practice/Course%204%20-%20S%2BP/S%2BP%20Week%202%20Lesson%202.ipynb\" target=\"_parent\"><img src=\"https://colab.research.google.com/assets/colab-badge.svg\" alt=\"Open In Colab\"/></a>"
   ]
  },
  {
   "cell_type": "code",
   "execution_count": 8,
   "metadata": {
    "colab": {},
    "colab_type": "code",
    "id": "-pwam8szRReT"
   },
   "outputs": [],
   "source": [
    "try:\n",
    "  # %tensorflow_version only exists in Colab.\n",
    "  %tensorflow_version 2.x\n",
    "except Exception:\n",
    "  pass"
   ]
  },
  {
   "cell_type": "code",
   "execution_count": 9,
   "metadata": {
    "colab": {
     "base_uri": "https://localhost:8080/",
     "height": 51
    },
    "colab_type": "code",
    "id": "BOjujz601HcS",
    "outputId": "01136054-fd7f-46ba-adf4-6675c36279d4"
   },
   "outputs": [
    {
     "name": "stdout",
     "output_type": "stream",
     "text": [
      "2.1.0\n"
     ]
    }
   ],
   "source": [
    "import tensorflow as tf\n",
    "import numpy as np\n",
    "import matplotlib.pyplot as plt\n",
    "print(tf.__version__)"
   ]
  },
  {
   "cell_type": "code",
   "execution_count": 10,
   "metadata": {
    "colab": {},
    "colab_type": "code",
    "id": "Zswl7jRtGzkk"
   },
   "outputs": [],
   "source": [
    "def plot_series(time, series, format=\"-\", start=0, end=None):\n",
    "    plt.plot(time[start:end], series[start:end], format)\n",
    "    plt.xlabel(\"Time\")\n",
    "    plt.ylabel(\"Value\")\n",
    "    plt.grid(True)\n",
    "\n",
    "def trend(time, slope=0):\n",
    "    return slope * time\n",
    "\n",
    "def seasonal_pattern(season_time):\n",
    "    \"\"\"Just an arbitrary pattern, you can change it if you wish\"\"\"\n",
    "    return np.where(season_time < 0.4,\n",
    "                    np.cos(season_time * 2 * np.pi),\n",
    "                    1 / np.exp(3 * season_time))\n",
    "\n",
    "def seasonality(time, period, amplitude=1, phase=0):\n",
    "    \"\"\"Repeats the same pattern at each period\"\"\"\n",
    "    season_time = ((time + phase) % period) / period\n",
    "    return amplitude * seasonal_pattern(season_time)\n",
    "\n",
    "def noise(time, noise_level=1, seed=None):\n",
    "    rnd = np.random.RandomState(seed)\n",
    "    return rnd.randn(len(time)) * noise_level\n",
    "\n",
    "time = np.arange(4 * 365 + 1, dtype=\"float32\")\n",
    "baseline = 10\n",
    "series = trend(time, 0.1)  \n",
    "baseline = 10\n",
    "amplitude = 40\n",
    "slope = 0.05\n",
    "noise_level = 5\n",
    "\n",
    "# Create the series\n",
    "series = baseline + trend(time, slope) + seasonality(time, period=365, amplitude=amplitude)\n",
    "# Update with noise\n",
    "series += noise(time, noise_level, seed=42)\n",
    "\n",
    "split_time = 1000\n",
    "time_train = time[:split_time]\n",
    "x_train = series[:split_time]\n",
    "time_valid = time[split_time:]\n",
    "x_valid = series[split_time:]\n",
    "\n",
    "window_size = 20\n",
    "batch_size = 32\n",
    "shuffle_buffer_size = 1000"
   ]
  },
  {
   "cell_type": "code",
   "execution_count": 11,
   "metadata": {
    "colab": {},
    "colab_type": "code",
    "id": "4sTTIOCbyShY"
   },
   "outputs": [],
   "source": [
    "def windowed_dataset(series, window_size, batch_size, shuffle_buffer):\n",
    "  dataset = tf.data.Dataset.from_tensor_slices(series)\n",
    "  dataset = dataset.window(window_size + 1, shift=1, drop_remainder=True)\n",
    "  dataset = dataset.flat_map(lambda window: window.batch(window_size + 1))\n",
    "  dataset = dataset.shuffle(shuffle_buffer).map(lambda window: (window[:-1], window[-1]))\n",
    "  dataset = dataset.batch(batch_size).prefetch(1)\n",
    "  return dataset"
   ]
  },
  {
   "cell_type": "code",
   "execution_count": 12,
   "metadata": {
    "colab": {
     "base_uri": "https://localhost:8080/",
     "height": 731
    },
    "colab_type": "code",
    "id": "ou-WmE2AXu6B",
    "outputId": "4fa31235-feef-4b07-ba4c-c89ffd898935"
   },
   "outputs": [
    {
     "name": "stdout",
     "output_type": "stream",
     "text": [
      "<PrefetchDataset shapes: ((None, None), (None,)), types: (tf.float32, tf.float32)>\n",
      "Epoch 1/100\n",
      "31/31 [==============================] - 1s 22ms/step - loss: 271.5934\n",
      "Epoch 2/100\n",
      "31/31 [==============================] - 0s 6ms/step - loss: 155.5905\n",
      "Epoch 3/100\n",
      "31/31 [==============================] - 0s 6ms/step - loss: 141.9186\n",
      "Epoch 4/100\n",
      "31/31 [==============================] - 0s 7ms/step - loss: 132.2644\n",
      "Epoch 5/100\n",
      "31/31 [==============================] - 0s 7ms/step - loss: 127.0421\n",
      "Epoch 6/100\n",
      "31/31 [==============================] - 0s 6ms/step - loss: 120.0153\n",
      "Epoch 7/100\n",
      "31/31 [==============================] - 0s 7ms/step - loss: 114.2885\n",
      "Epoch 8/100\n",
      "31/31 [==============================] - 0s 6ms/step - loss: 108.1906\n",
      "Epoch 9/100\n",
      "31/31 [==============================] - 0s 11ms/step - loss: 102.7846\n",
      "Epoch 10/100\n",
      "31/31 [==============================] - 0s 12ms/step - loss: 98.9407\n",
      "Epoch 11/100\n",
      "31/31 [==============================] - 0s 10ms/step - loss: 96.2836\n",
      "Epoch 12/100\n",
      "31/31 [==============================] - 0s 9ms/step - loss: 90.5239\n",
      "Epoch 13/100\n",
      "31/31 [==============================] - 0s 6ms/step - loss: 89.0806\n",
      "Epoch 14/100\n",
      "31/31 [==============================] - ETA: 0s - loss: 87.410 - 0s 6ms/step - loss: 87.1736\n",
      "Epoch 15/100\n",
      "31/31 [==============================] - 0s 9ms/step - loss: 83.8431\n",
      "Epoch 16/100\n",
      "31/31 [==============================] - 0s 7ms/step - loss: 79.9345\n",
      "Epoch 17/100\n",
      "31/31 [==============================] - 0s 7ms/step - loss: 78.4265\n",
      "Epoch 18/100\n",
      "31/31 [==============================] - 0s 6ms/step - loss: 76.4432\n",
      "Epoch 19/100\n",
      "31/31 [==============================] - 0s 6ms/step - loss: 74.0458\n",
      "Epoch 20/100\n",
      "31/31 [==============================] - 0s 6ms/step - loss: 72.8376\n",
      "Epoch 21/100\n",
      "31/31 [==============================] - 0s 7ms/step - loss: 72.4971\n",
      "Epoch 22/100\n",
      "31/31 [==============================] - 0s 7ms/step - loss: 70.3194\n",
      "Epoch 23/100\n",
      "31/31 [==============================] - 0s 6ms/step - loss: 69.6489\n",
      "Epoch 24/100\n",
      "31/31 [==============================] - 0s 6ms/step - loss: 68.1192\n",
      "Epoch 25/100\n",
      "31/31 [==============================] - 0s 7ms/step - loss: 66.0552\n",
      "Epoch 26/100\n",
      "31/31 [==============================] - 0s 6ms/step - loss: 65.3230\n",
      "Epoch 27/100\n",
      "31/31 [==============================] - 0s 6ms/step - loss: 64.0789\n",
      "Epoch 28/100\n",
      "31/31 [==============================] - 0s 7ms/step - loss: 63.4236\n",
      "Epoch 29/100\n",
      "31/31 [==============================] - 0s 6ms/step - loss: 62.0777\n",
      "Epoch 30/100\n",
      "31/31 [==============================] - 0s 7ms/step - loss: 61.5199\n",
      "Epoch 31/100\n",
      "31/31 [==============================] - 0s 7ms/step - loss: 60.2108\n",
      "Epoch 32/100\n",
      "31/31 [==============================] - 0s 7ms/step - loss: 59.6933\n",
      "Epoch 33/100\n",
      "31/31 [==============================] - 0s 7ms/step - loss: 59.7903\n",
      "Epoch 34/100\n",
      "31/31 [==============================] - 0s 7ms/step - loss: 58.0095\n",
      "Epoch 35/100\n",
      "31/31 [==============================] - 0s 8ms/step - loss: 58.5164\n",
      "Epoch 36/100\n",
      "31/31 [==============================] - 0s 7ms/step - loss: 56.8976\n",
      "Epoch 37/100\n",
      "31/31 [==============================] - 0s 7ms/step - loss: 55.9257\n",
      "Epoch 38/100\n",
      "31/31 [==============================] - 0s 6ms/step - loss: 56.9258\n",
      "Epoch 39/100\n",
      "31/31 [==============================] - 0s 6ms/step - loss: 55.7503\n",
      "Epoch 40/100\n",
      "31/31 [==============================] - 0s 6ms/step - loss: 54.6927\n",
      "Epoch 41/100\n",
      "31/31 [==============================] - 0s 7ms/step - loss: 54.8217\n",
      "Epoch 42/100\n",
      "31/31 [==============================] - 0s 7ms/step - loss: 53.7115\n",
      "Epoch 43/100\n",
      "31/31 [==============================] - 0s 6ms/step - loss: 53.5322\n",
      "Epoch 44/100\n",
      "31/31 [==============================] - 0s 6ms/step - loss: 52.7937\n",
      "Epoch 45/100\n",
      "31/31 [==============================] - 0s 6ms/step - loss: 52.8922\n",
      "Epoch 46/100\n",
      "31/31 [==============================] - 0s 7ms/step - loss: 53.0812\n",
      "Epoch 47/100\n",
      "31/31 [==============================] - 0s 7ms/step - loss: 52.3312\n",
      "Epoch 48/100\n",
      "31/31 [==============================] - 0s 6ms/step - loss: 51.4890\n",
      "Epoch 49/100\n",
      "31/31 [==============================] - 0s 8ms/step - loss: 52.4848\n",
      "Epoch 50/100\n",
      "31/31 [==============================] - 0s 8ms/step - loss: 52.1049TA: 0s - loss: 54.812\n",
      "Epoch 51/100\n",
      "31/31 [==============================] - 0s 7ms/step - loss: 51.8444\n",
      "Epoch 52/100\n",
      "31/31 [==============================] - 0s 7ms/step - loss: 50.6754\n",
      "Epoch 53/100\n",
      "31/31 [==============================] - 0s 6ms/step - loss: 51.7304\n",
      "Epoch 54/100\n",
      "31/31 [==============================] - 0s 6ms/step - loss: 50.1186\n",
      "Epoch 55/100\n",
      "31/31 [==============================] - 0s 6ms/step - loss: 49.9065\n",
      "Epoch 56/100\n",
      "31/31 [==============================] - 0s 7ms/step - loss: 49.0558\n",
      "Epoch 57/100\n",
      "31/31 [==============================] - 0s 6ms/step - loss: 49.8338\n",
      "Epoch 58/100\n",
      "31/31 [==============================] - 0s 7ms/step - loss: 50.0274\n",
      "Epoch 59/100\n",
      "31/31 [==============================] - 0s 7ms/step - loss: 49.3019\n",
      "Epoch 60/100\n",
      "31/31 [==============================] - 0s 7ms/step - loss: 48.6285\n",
      "Epoch 61/100\n",
      "31/31 [==============================] - 0s 6ms/step - loss: 49.3907\n",
      "Epoch 62/100\n",
      "31/31 [==============================] - 0s 7ms/step - loss: 47.7802\n",
      "Epoch 63/100\n",
      "31/31 [==============================] - 0s 7ms/step - loss: 49.1848\n",
      "Epoch 64/100\n",
      "31/31 [==============================] - 0s 7ms/step - loss: 48.3668\n",
      "Epoch 65/100\n",
      "31/31 [==============================] - 0s 7ms/step - loss: 48.6829\n",
      "Epoch 66/100\n",
      "31/31 [==============================] - 0s 13ms/step - loss: 47.3771\n",
      "Epoch 67/100\n",
      "31/31 [==============================] - 0s 10ms/step - loss: 47.6162\n",
      "Epoch 68/100\n",
      "31/31 [==============================] - 0s 10ms/step - loss: 47.0621\n",
      "Epoch 69/100\n",
      "31/31 [==============================] - 0s 12ms/step - loss: 46.9100\n",
      "Epoch 70/100\n",
      "31/31 [==============================] - 0s 11ms/step - loss: 46.3935\n",
      "Epoch 71/100\n",
      "31/31 [==============================] - 0s 11ms/step - loss: 47.2524\n",
      "Epoch 72/100\n",
      "31/31 [==============================] - 0s 7ms/step - loss: 46.3398\n",
      "Epoch 73/100\n",
      "31/31 [==============================] - 0s 6ms/step - loss: 46.2847\n",
      "Epoch 74/100\n",
      "31/31 [==============================] - 0s 9ms/step - loss: 47.4516\n",
      "Epoch 75/100\n",
      "31/31 [==============================] - 0s 7ms/step - loss: 46.1650\n",
      "Epoch 76/100\n",
      "31/31 [==============================] - 0s 7ms/step - loss: 47.0557\n",
      "Epoch 77/100\n",
      "31/31 [==============================] - 0s 6ms/step - loss: 46.3029\n",
      "Epoch 78/100\n",
      "31/31 [==============================] - 0s 6ms/step - loss: 46.4257\n",
      "Epoch 79/100\n",
      "31/31 [==============================] - 0s 7ms/step - loss: 45.7814\n",
      "Epoch 80/100\n",
      "31/31 [==============================] - 0s 7ms/step - loss: 46.2154\n",
      "Epoch 81/100\n",
      "31/31 [==============================] - 0s 7ms/step - loss: 45.6478\n",
      "Epoch 82/100\n",
      "31/31 [==============================] - 0s 6ms/step - loss: 45.3234\n",
      "Epoch 83/100\n",
      "31/31 [==============================] - 0s 7ms/step - loss: 45.2033\n",
      "Epoch 84/100\n",
      "31/31 [==============================] - 0s 11ms/step - loss: 45.3452\n",
      "Epoch 85/100\n",
      "31/31 [==============================] - 0s 7ms/step - loss: 45.0179\n",
      "Epoch 86/100\n",
      "31/31 [==============================] - 0s 12ms/step - loss: 44.9306\n",
      "Epoch 87/100\n",
      "31/31 [==============================] - 0s 14ms/step - loss: 44.9410\n",
      "Epoch 88/100\n",
      "31/31 [==============================] - 0s 11ms/step - loss: 44.8529\n",
      "Epoch 89/100\n",
      "31/31 [==============================] - 0s 7ms/step - loss: 45.1532\n",
      "Epoch 90/100\n",
      "31/31 [==============================] - 0s 7ms/step - loss: 45.7551\n",
      "Epoch 91/100\n",
      "31/31 [==============================] - 0s 9ms/step - loss: 45.5974\n",
      "Epoch 92/100\n",
      "31/31 [==============================] - 0s 7ms/step - loss: 44.3846\n",
      "Epoch 93/100\n",
      "31/31 [==============================] - 0s 6ms/step - loss: 44.6628\n",
      "Epoch 94/100\n",
      "31/31 [==============================] - 0s 7ms/step - loss: 44.2323\n",
      "Epoch 95/100\n",
      "31/31 [==============================] - 0s 10ms/step - loss: 45.5012\n",
      "Epoch 96/100\n",
      "31/31 [==============================] - 0s 7ms/step - loss: 44.6276\n",
      "Epoch 97/100\n",
      "31/31 [==============================] - 0s 6ms/step - loss: 44.5704\n",
      "Epoch 98/100\n",
      "31/31 [==============================] - 0s 7ms/step - loss: 44.0801\n",
      "Epoch 99/100\n",
      "31/31 [==============================] - 0s 7ms/step - loss: 45.2646\n",
      "Epoch 100/100\n",
      "31/31 [==============================] - 0s 7ms/step - loss: 44.3404\n",
      "Layer weights [array([[ 0.02932246],\n",
      "       [-0.02413676],\n",
      "       [-0.04911245],\n",
      "       [ 0.03049553],\n",
      "       [-0.03538031],\n",
      "       [ 0.09599472],\n",
      "       [-0.03017943],\n",
      "       [-0.04701396],\n",
      "       [-0.0280007 ],\n",
      "       [ 0.06745932],\n",
      "       [ 0.01746587],\n",
      "       [-0.02358325],\n",
      "       [-0.04549045],\n",
      "       [ 0.05153202],\n",
      "       [-0.00804954],\n",
      "       [ 0.13632327],\n",
      "       [-0.05767848],\n",
      "       [ 0.12168901],\n",
      "       [ 0.34273738],\n",
      "       [ 0.44072074]], dtype=float32), array([0.01397999], dtype=float32)]\n"
     ]
    }
   ],
   "source": [
    "dataset = windowed_dataset(x_train, window_size, batch_size, shuffle_buffer_size)\n",
    "print(dataset)\n",
    "l0 = tf.keras.layers.Dense(1, input_shape=[window_size])\n",
    "model = tf.keras.models.Sequential([l0])\n",
    "\n",
    "\n",
    "model.compile(loss=\"mse\", optimizer=tf.keras.optimizers.SGD(lr=1e-6, momentum=0.9))\n",
    "model.fit(dataset,epochs=100,verbose=1)\n",
    "\n",
    "print(\"Layer weights {}\".format(l0.get_weights()))\n"
   ]
  },
  {
   "cell_type": "code",
   "execution_count": 13,
   "metadata": {
    "colab": {
     "base_uri": "https://localhost:8080/",
     "height": 388
    },
    "colab_type": "code",
    "id": "-gtVJuLVxR-M",
    "outputId": "06885915-1387-4726-f30a-248830ba8463"
   },
   "outputs": [
    {
     "data": {
      "image/png": "[encoded data removed]",
      "text/plain": [
       "<Figure size 720x432 with 1 Axes>"
      ]
     },
     "metadata": {
      "needs_background": "light"
     },
     "output_type": "display_data"
    }
   ],
   "source": [
    "forecast = []\n",
    "\n",
    "for time in range(len(series) - window_size):\n",
    "  forecast.append(model.predict(series[time:time + window_size][np.newaxis]))\n",
    "\n",
    "forecast = forecast[split_time-window_size:]\n",
    "results = np.array(forecast)[:, 0, 0]\n",
    "\n",
    "\n",
    "plt.figure(figsize=(10, 6))\n",
    "\n",
    "plot_series(time_valid, x_valid)\n",
    "plot_series(time_valid, results)"
   ]
  },
  {
   "cell_type": "code",
   "execution_count": 14,
   "metadata": {
    "colab": {
     "base_uri": "https://localhost:8080/",
     "height": 34
    },
    "colab_type": "code",
    "id": "hR2BO0Dai_ZT",
    "outputId": "10a31340-2a5e-410f-be7a-84355afe57e4"
   },
   "outputs": [
    {
     "data": {
      "text/plain": [
       "5.1463842"
      ]
     },
     "execution_count": 14,
     "metadata": {},
     "output_type": "execute_result"
    }
   ],
   "source": [
    "tf.keras.metrics.mean_absolute_error(x_valid, results).numpy()"
   ]
  },
  {
   "cell_type": "code",
   "execution_count": null,
   "metadata": {
    "colab": {},
    "colab_type": "code",
    "id": "jX8xG7zqjJ75"
   },
   "outputs": [],
   "source": []
  }
 ],
 "metadata": {
  "colab": {
   "name": "S+P Week 2 Lesson 2.ipynb",
   "provenance": [],
   "toc_visible": true
  },
  "kernelspec": {
   "display_name": "Python 3",
   "language": "python",
   "name": "python3"
  },
  "language_info": {
   "codemirror_mode": {
    "name": "ipython",
    "version": 3
   },
   "file_extension": ".py",
   "mimetype": "text/x-python",
   "name": "python",
   "nbconvert_exporter": "python",
   "pygments_lexer": "ipython3",
   "version": "3.7.4"
  }
 },
 "nbformat": 4,
 "nbformat_minor": 4
}
